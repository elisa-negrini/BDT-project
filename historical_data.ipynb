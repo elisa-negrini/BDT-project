{
 "cells": [
  {
   "cell_type": "code",
   "execution_count": 1,
   "id": "61b1d78d",
   "metadata": {},
   "outputs": [
    {
     "name": "stdout",
     "output_type": "stream",
     "text": [
      "                                     open     high      low   close  \\\n",
      "symbol timestamp                                                      \n",
      "DFS    2025-04-21 04:00:00+00:00  170.520  171.045  161.630  165.31   \n",
      "       2025-04-22 04:00:00+00:00  168.350  173.480  168.050  172.33   \n",
      "       2025-04-23 04:00:00+00:00  178.100  186.640  177.710  178.69   \n",
      "       2025-04-24 04:00:00+00:00  175.640  188.470  175.640  187.46   \n",
      "MSCI   2025-04-21 04:00:00+00:00  539.270  542.680  525.765  533.48   \n",
      "...                                   ...      ...      ...     ...   \n",
      "HST    2025-04-24 04:00:00+00:00   13.775   14.000   13.655   13.93   \n",
      "A      2025-04-21 04:00:00+00:00  101.850  102.040   99.120  100.26   \n",
      "       2025-04-22 04:00:00+00:00  102.000  103.940  101.200  102.81   \n",
      "       2025-04-23 04:00:00+00:00  106.670  109.620  104.750  105.00   \n",
      "       2025-04-24 04:00:00+00:00  105.420  107.080  103.160  107.02   \n",
      "\n",
      "                                     volume  trade_count        vwap  \n",
      "symbol timestamp                                                      \n",
      "DFS    2025-04-21 04:00:00+00:00  4645889.0      69736.0  164.677671  \n",
      "       2025-04-22 04:00:00+00:00  3361681.0      57972.0  171.508142  \n",
      "       2025-04-23 04:00:00+00:00  3111304.0      41296.0  181.506865  \n",
      "       2025-04-24 04:00:00+00:00  3723992.0      45607.0  185.857755  \n",
      "MSCI   2025-04-21 04:00:00+00:00   917272.0      29067.0  532.590985  \n",
      "...                                     ...          ...         ...  \n",
      "HST    2025-04-24 04:00:00+00:00  5114177.0      39517.0   13.891090  \n",
      "A      2025-04-21 04:00:00+00:00  2321821.0      34653.0  100.157217  \n",
      "       2025-04-22 04:00:00+00:00  2321791.0      33825.0  102.665121  \n",
      "       2025-04-23 04:00:00+00:00  2236208.0      35842.0  105.991498  \n",
      "       2025-04-24 04:00:00+00:00  1989456.0      29736.0  106.409408  \n",
      "\n",
      "[2012 rows x 7 columns]\n"
     ]
    }
   ],
   "source": [
    "import pandas as pd\n",
    "from alpaca.data.historical import StockHistoricalDataClient\n",
    "from alpaca.data.requests import StockBarsRequest\n",
    "from alpaca.data.timeframe import TimeFrame\n",
    "from datetime import datetime\n",
    "\n",
    "# Step 1: Leggi il file CSV dei 500 titoli\n",
    "s_and_p_500 = pd.read_csv(\"https://raw.githubusercontent.com/datasets/s-and-p-500-companies/master/data/constituents.csv\")\n",
    "symbols = s_and_p_500['Symbol'].tolist()  # lista dei simboli\n",
    "\n",
    "# Step 2: Connetti ad Alpaca\n",
    "client = StockHistoricalDataClient(\n",
    "    \"AKP52FXPKKRCHO0R1QJ5\",\n",
    "    \"cvdzZzgt7QZHjF5n1vNFL4wUKo6Rq0Hy6gLnCdVt\"\n",
    ")\n",
    "\n",
    "# Step 3: Crea la richiesta\n",
    "request_params = StockBarsRequest(\n",
    "    symbol_or_symbols=symbols,\n",
    "    timeframe=TimeFrame.Day,\n",
    "    start=datetime(2025, 4, 20),\n",
    "    end=datetime(2025, 4, 25)\n",
    ")\n",
    "\n",
    "# Step 4: Prendi i dati\n",
    "bars = client.get_stock_bars(request_params)\n",
    "\n",
    "# Step 5: Stampa i primi dati\n",
    "print(bars.df)\n",
    "\n",
    "bars.df.to_csv('s_and_p_500_bars.csv')\n"
   ]
  }
 ],
 "metadata": {
  "kernelspec": {
   "display_name": "base",
   "language": "python",
   "name": "python3"
  },
  "language_info": {
   "codemirror_mode": {
    "name": "ipython",
    "version": 3
   },
   "file_extension": ".py",
   "mimetype": "text/x-python",
   "name": "python",
   "nbconvert_exporter": "python",
   "pygments_lexer": "ipython3",
   "version": "3.12.9"
  }
 },
 "nbformat": 4,
 "nbformat_minor": 5
}
