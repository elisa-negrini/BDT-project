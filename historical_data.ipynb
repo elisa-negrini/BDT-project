{
 "cells": [
  {
   "cell_type": "code",
   "execution_count": 1,
   "id": "61b1d78d",
   "metadata": {},
   "outputs": [
    {
     "name": "stdout",
     "output_type": "stream",
     "text": [
      "                                    open      high      low   close  \\\n",
      "symbol timestamp                                                      \n",
      "ADP    2024-04-22 04:00:00+00:00  245.10  247.5800  243.920  246.31   \n",
      "       2024-04-23 04:00:00+00:00  246.76  248.0900  245.930  246.84   \n",
      "       2024-04-24 04:00:00+00:00  244.64  246.8600  244.320  246.61   \n",
      "       2024-04-25 04:00:00+00:00  249.57  250.3000  244.405  246.34   \n",
      "       2024-04-26 04:00:00+00:00  244.10  246.7100  242.960  243.07   \n",
      "...                                  ...       ...      ...     ...   \n",
      "WTW    2025-04-17 04:00:00+00:00  324.00  325.7600  317.270  321.00   \n",
      "       2025-04-21 04:00:00+00:00  320.52  322.6210  311.860  315.76   \n",
      "       2025-04-22 04:00:00+00:00  321.00  325.7200  315.400  324.68   \n",
      "       2025-04-23 04:00:00+00:00  324.69  328.9262  324.690  325.68   \n",
      "       2025-04-24 04:00:00+00:00  306.15  321.0200  304.545  307.06   \n",
      "\n",
      "                                     volume  trade_count        vwap  \n",
      "symbol timestamp                                                      \n",
      "ADP    2024-04-22 04:00:00+00:00  1329014.0      26577.0  246.047495  \n",
      "       2024-04-23 04:00:00+00:00  1661848.0      32960.0  246.972934  \n",
      "       2024-04-24 04:00:00+00:00  1455810.0      25054.0  246.079620  \n",
      "       2024-04-25 04:00:00+00:00  1224550.0      30562.0  246.372514  \n",
      "       2024-04-26 04:00:00+00:00  1555489.0      31058.0  244.201987  \n",
      "...                                     ...          ...         ...  \n",
      "WTW    2025-04-17 04:00:00+00:00   658734.0      21194.0  322.319953  \n",
      "       2025-04-21 04:00:00+00:00   655910.0      27066.0  315.737038  \n",
      "       2025-04-22 04:00:00+00:00   643065.0      19604.0  323.822129  \n",
      "       2025-04-23 04:00:00+00:00   922800.0      25765.0  326.456099  \n",
      "       2025-04-24 04:00:00+00:00  1401970.0      35229.0  308.772017  \n",
      "\n",
      "[127259 rows x 7 columns]\n"
     ]
    }
   ],
   "source": [
    "import pandas as pd\n",
    "from alpaca.data.historical import StockHistoricalDataClient\n",
    "from alpaca.data.requests import StockBarsRequest\n",
    "from alpaca.data.timeframe import TimeFrame\n",
    "from datetime import datetime\n",
    "\n",
    "# Step 1: Leggi il file CSV dei 500 titoli\n",
    "s_and_p_500 = pd.read_csv(\"https://raw.githubusercontent.com/datasets/s-and-p-500-companies/master/data/constituents.csv\")\n",
    "symbols = s_and_p_500['Symbol'].tolist()  # lista dei simboli\n",
    "\n",
    "# Step 2: Connetti ad Alpaca\n",
    "client = StockHistoricalDataClient(\n",
    "    \"AKP52FXPKKRCHO0R1QJ5\",\n",
    "    \"cvdzZzgt7QZHjF5n1vNFL4wUKo6Rq0Hy6gLnCdVt\"\n",
    ")\n",
    "\n",
    "# Step 3: Crea la richiesta\n",
    "request_params = StockBarsRequest(\n",
    "    symbol_or_symbols=symbols,\n",
    "    timeframe=TimeFrame.Day,\n",
    "    start=datetime(2024, 4, 20),\n",
    "    end=datetime(2025, 4, 25)\n",
    ")\n",
    "\n",
    "# Step 4: Prendi i dati\n",
    "bars = client.get_stock_bars(request_params)\n",
    "\n",
    "# Step 5: Stampa i primi dati\n",
    "print(bars.df)\n",
    "\n",
    "bars.df.to_csv('s_and_p_500_bars.csv')\n"
   ]
  }
 ],
 "metadata": {
  "kernelspec": {
   "display_name": "base",
   "language": "python",
   "name": "python3"
  },
  "language_info": {
   "codemirror_mode": {
    "name": "ipython",
    "version": 3
   },
   "file_extension": ".py",
   "mimetype": "text/x-python",
   "name": "python",
   "nbconvert_exporter": "python",
   "pygments_lexer": "ipython3",
   "version": "3.12.9"
  }
 },
 "nbformat": 4,
 "nbformat_minor": 5
}
