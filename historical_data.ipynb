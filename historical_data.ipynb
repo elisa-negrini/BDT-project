{
 "cells": [
  {
   "cell_type": "code",
   "execution_count": null,
   "id": "61b1d78d",
   "metadata": {},
   "outputs": [
    {
     "name": "stdout",
     "output_type": "stream",
     "text": [
      "                                    open     high       low   close  \\\n",
      "symbol timestamp                                                      \n",
      "APD    2024-04-22 04:00:00+00:00  231.93  234.580  229.1900  234.36   \n",
      "       2024-04-23 04:00:00+00:00  233.47  235.185  232.0900  233.71   \n",
      "       2024-04-24 04:00:00+00:00  232.43  235.080  231.7500  234.68   \n",
      "       2024-04-25 04:00:00+00:00  234.48  235.980  233.4700  235.08   \n",
      "       2024-04-26 04:00:00+00:00  234.88  238.400  234.4600  236.08   \n",
      "...                                  ...      ...       ...     ...   \n",
      "WRB    2025-04-17 04:00:00+00:00   68.65   69.440   68.1300   68.80   \n",
      "       2025-04-21 04:00:00+00:00   68.90   69.050   66.5900   67.33   \n",
      "       2025-04-22 04:00:00+00:00   67.60   71.090   66.2001   70.85   \n",
      "       2025-04-23 04:00:00+00:00   71.00   71.330   69.6300   71.24   \n",
      "       2025-04-24 04:00:00+00:00   71.02   72.000   70.0300   71.75   \n",
      "\n",
      "                                     volume  trade_count        vwap  \n",
      "symbol timestamp                                                      \n",
      "APD    2024-04-22 04:00:00+00:00  1591168.0      32907.0  232.751063  \n",
      "       2024-04-23 04:00:00+00:00  1175219.0      28044.0  233.630878  \n",
      "       2024-04-24 04:00:00+00:00  1297346.0      23460.0  233.841019  \n",
      "       2024-04-25 04:00:00+00:00  1037756.0      26411.0  234.709920  \n",
      "       2024-04-26 04:00:00+00:00  1251373.0      27164.0  236.022140  \n",
      "...                                     ...          ...         ...  \n",
      "WRB    2025-04-17 04:00:00+00:00  2145124.0      24408.0   68.859034  \n",
      "       2025-04-21 04:00:00+00:00  1834828.0      31262.0   67.333959  \n",
      "       2025-04-22 04:00:00+00:00  2647975.0      40543.0   69.928200  \n",
      "       2025-04-23 04:00:00+00:00  2497772.0      36232.0   70.967236  \n",
      "       2025-04-24 04:00:00+00:00  1819935.0      29052.0   71.591704  \n",
      "\n",
      "[127259 rows x 7 columns]\n"
     ]
    }
   ],
   "source": [
    "import pandas as pd\n",
    "from alpaca.data.historical import StockHistoricalDataClient\n",
    "from alpaca.data.requests import StockBarsRequest\n",
    "from alpaca.data.timeframe import TimeFrame\n",
    "from datetime import datetime\n",
    "\n",
    "# Step 1: Leggi il file CSV dei 500 titoli\n",
    "s_and_p_500 = pd.read_csv(\"https://raw.githubusercontent.com/datasets/s-and-p-500-companies/master/data/constituents.csv\")\n",
    "symbols = s_and_p_500['Symbol'].tolist()  # lista dei simboli\n",
    "\n",
    "# Step 2: Connetti ad Alpaca\n",
    "client = StockHistoricalDataClient(\n",
    "    \"AKP52FXPKKRCHO0R1QJ5\",\n",
    "    \"cvdzZzgt7QZHjF5n1vNFL4wUKo6Rq0Hy6gLnCdVt\"\n",
    ")\n",
    "\n",
    "# Step 3: Crea la richiesta\n",
    "request_params = StockBarsRequest(\n",
    "    symbol_or_symbols=symbols,\n",
    "    timeframe=TimeFrame.Day,\n",
    "    start=datetime(2024, 4, 20),\n",
    "    end=datetime(2025, 4, 25)\n",
    ")\n",
    "\n",
    "# Step 4: Prendi i dati\n",
    "bars = client.get_stock_bars(request_params)\n",
    "\n",
    "# Step 5: Stampa i primi dati\n",
    "print(bars.df)\n",
    "\n",
    "bars.df.to_csv('s_and_p_500_bars.csv')\n"
   ]
  }
 ],
 "metadata": {
  "kernelspec": {
   "display_name": "base",
   "language": "python",
   "name": "python3"
  },
  "language_info": {
   "codemirror_mode": {
    "name": "ipython",
    "version": 3
   },
   "file_extension": ".py",
   "mimetype": "text/x-python",
   "name": "python",
   "nbconvert_exporter": "python",
   "pygments_lexer": "ipython3",
   "version": "3.12.9"
  }
 },
 "nbformat": 4,
 "nbformat_minor": 5
}
