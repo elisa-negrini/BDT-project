{
 "cells": [
  {
   "cell_type": "code",
   "execution_count": null,
   "id": "6edb8b27",
   "metadata": {},
   "outputs": [
    {
     "name": "stdout",
     "output_type": "stream",
     "text": [
      "📡 Subscribed to MMM\n",
      "📡 Subscribed to AOS\n",
      "📡 Subscribed to ABT\n",
      "📡 Subscribed to ABBV\n",
      "📡 Subscribed to ACN\n",
      "📡 Subscribed to ADBE\n",
      "📡 Subscribed to AMD\n",
      "📡 Subscribed to AES\n",
      "📡 Subscribed to AFL\n",
      "📡 Subscribed to A\n",
      "📡 Subscribed to APD\n",
      "📡 Subscribed to ABNB\n",
      "📡 Subscribed to AKAM\n",
      "📡 Subscribed to ALB\n",
      "📡 Subscribed to ARE\n",
      "📡 Subscribed to ALGN\n",
      "📡 Subscribed to ALLE\n",
      "📡 Subscribed to LNT\n",
      "📡 Subscribed to ALL\n",
      "📡 Subscribed to GOOGL\n",
      "📡 Subscribed to GOOG\n",
      "📡 Subscribed to MO\n",
      "📡 Subscribed to AMZN\n",
      "📡 Subscribed to AMCR\n",
      "📡 Subscribed to AEE\n",
      "📡 Subscribed to AEP\n",
      "📡 Subscribed to AXP\n",
      "📡 Subscribed to AIG\n",
      "📡 Subscribed to AMT\n",
      "📡 Subscribed to AWK\n",
      "📡 Subscribed to AMP\n",
      "📡 Subscribed to AME\n",
      "📡 Subscribed to AMGN\n",
      "📡 Subscribed to APH\n",
      "📡 Subscribed to ADI\n",
      "📡 Subscribed to ANSS\n",
      "📡 Subscribed to AON\n",
      "📡 Subscribed to APA\n",
      "📡 Subscribed to APO\n",
      "📡 Subscribed to AAPL\n",
      "📡 Subscribed to AMAT\n",
      "📡 Subscribed to APTV\n",
      "📡 Subscribed to ACGL\n",
      "📡 Subscribed to ADM\n",
      "📡 Subscribed to ANET\n",
      "📡 Subscribed to AJG\n",
      "📡 Subscribed to AIZ\n",
      "📡 Subscribed to T\n",
      "📡 Subscribed to ATO\n",
      "📡 Subscribed to ADSK\n",
      "📡 Subscribed to ADP\n",
      "📡 Subscribed to AZO\n",
      "📡 Subscribed to AVB\n",
      "📡 Subscribed to AVY\n",
      "📡 Subscribed to AXON\n",
      "📡 Subscribed to BKR\n",
      "📡 Subscribed to BALL\n",
      "📡 Subscribed to BAC\n",
      "📡 Subscribed to BAX\n",
      "📡 Subscribed to BDX\n",
      "📡 Subscribed to BRK.B\n",
      "📡 Subscribed to BBY\n",
      "📡 Subscribed to TECH\n",
      "📡 Subscribed to BIIB\n",
      "📡 Subscribed to BLK\n",
      "📡 Subscribed to BX\n",
      "📡 Subscribed to BK\n",
      "📡 Subscribed to BA\n",
      "📡 Subscribed to BKNG\n",
      "📡 Subscribed to BSX\n",
      "📡 Subscribed to BMY\n",
      "📡 Subscribed to AVGO\n",
      "📡 Subscribed to BR\n",
      "📡 Subscribed to BRO\n",
      "📡 Subscribed to BF.B\n",
      "📡 Subscribed to BLDR\n",
      "📡 Subscribed to BG\n",
      "📡 Subscribed to BXP\n",
      "📡 Subscribed to CHRW\n",
      "📡 Subscribed to CDNS\n",
      "📡 Subscribed to CZR\n",
      "📡 Subscribed to CPT\n",
      "📡 Subscribed to CPB\n",
      "📡 Subscribed to COF\n",
      "📡 Subscribed to CAH\n",
      "📡 Subscribed to KMX\n",
      "📡 Subscribed to CCL\n",
      "📡 Subscribed to CARR\n",
      "📡 Subscribed to CAT\n",
      "📡 Subscribed to CBOE\n",
      "📡 Subscribed to CBRE\n",
      "📡 Subscribed to CDW\n",
      "📡 Subscribed to COR\n",
      "📡 Subscribed to CNC\n",
      "📡 Subscribed to CNP\n",
      "📡 Subscribed to CF\n",
      "📡 Subscribed to CRL\n",
      "📡 Subscribed to SCHW\n",
      "📡 Subscribed to CHTR\n",
      "📡 Subscribed to CVX\n",
      "📡 Subscribed to CMG\n",
      "📡 Subscribed to CB\n",
      "📡 Subscribed to CHD\n",
      "📡 Subscribed to CI\n",
      "📡 Subscribed to CINF\n",
      "📡 Subscribed to CTAS\n",
      "📡 Subscribed to CSCO\n",
      "📡 Subscribed to C\n",
      "📡 Subscribed to CFG\n",
      "📡 Subscribed to CLX\n",
      "📡 Subscribed to CME\n",
      "📡 Subscribed to CMS\n",
      "📡 Subscribed to KO\n",
      "📡 Subscribed to CTSH\n",
      "📡 Subscribed to CL\n",
      "📡 Subscribed to CMCSA\n",
      "📡 Subscribed to CAG\n",
      "📡 Subscribed to COP\n",
      "📡 Subscribed to ED\n",
      "📡 Subscribed to STZ\n",
      "📡 Subscribed to CEG\n",
      "📡 Subscribed to COO\n",
      "📡 Subscribed to CPRT\n",
      "📡 Subscribed to GLW\n",
      "📡 Subscribed to CPAY\n",
      "📡 Subscribed to CTVA\n",
      "📡 Subscribed to CSGP\n",
      "📡 Subscribed to COST\n",
      "📡 Subscribed to CTRA\n",
      "📡 Subscribed to CRWD\n",
      "📡 Subscribed to CCI\n",
      "📡 Subscribed to CSX\n",
      "📡 Subscribed to CMI\n",
      "📡 Subscribed to CVS\n",
      "📡 Subscribed to DHR\n",
      "📡 Subscribed to DRI\n",
      "📡 Subscribed to DVA\n",
      "📡 Subscribed to DAY\n",
      "📡 Subscribed to DECK\n",
      "📡 Subscribed to DE\n",
      "📡 Subscribed to DELL\n",
      "📡 Subscribed to DAL\n",
      "📡 Subscribed to DVN\n",
      "📡 Subscribed to DXCM\n",
      "📡 Subscribed to FANG\n",
      "📡 Subscribed to DLR\n",
      "📡 Subscribed to DFS\n",
      "📡 Subscribed to DG\n",
      "📡 Subscribed to DLTR\n",
      "📡 Subscribed to D\n",
      "📡 Subscribed to DPZ\n",
      "📡 Subscribed to DASH\n",
      "📡 Subscribed to DOV\n",
      "📡 Subscribed to DOW\n",
      "📡 Subscribed to DHI\n",
      "📡 Subscribed to DTE\n",
      "📡 Subscribed to DUK\n",
      "📡 Subscribed to DD\n",
      "📡 Subscribed to EMN\n",
      "📡 Subscribed to ETN\n",
      "📡 Subscribed to EBAY\n",
      "📡 Subscribed to ECL\n",
      "📡 Subscribed to EIX\n",
      "📡 Subscribed to EW\n",
      "📡 Subscribed to EA\n",
      "📡 Subscribed to ELV\n",
      "📡 Subscribed to EMR\n",
      "📡 Subscribed to ENPH\n",
      "📡 Subscribed to ETR\n",
      "📡 Subscribed to EOG\n",
      "📡 Subscribed to EPAM\n",
      "📡 Subscribed to EQT\n",
      "📡 Subscribed to EFX\n",
      "📡 Subscribed to EQIX\n",
      "📡 Subscribed to EQR\n",
      "📡 Subscribed to ERIE\n",
      "📡 Subscribed to ESS\n",
      "📡 Subscribed to EL\n",
      "📡 Subscribed to EG\n",
      "📡 Subscribed to EVRG\n",
      "📡 Subscribed to ES\n",
      "📡 Subscribed to EXC\n",
      "📡 Subscribed to EXE\n",
      "📡 Subscribed to EXPE\n",
      "📡 Subscribed to EXPD\n",
      "📡 Subscribed to EXR\n",
      "📡 Subscribed to XOM\n",
      "📡 Subscribed to FFIV\n",
      "📡 Subscribed to FDS\n",
      "📡 Subscribed to FICO\n",
      "📡 Subscribed to FAST\n",
      "📡 Subscribed to FRT\n",
      "📡 Subscribed to FDX\n",
      "📡 Subscribed to FIS\n",
      "📡 Subscribed to FITB\n",
      "📡 Subscribed to FSLR\n",
      "📡 Subscribed to FE\n",
      "📡 Subscribed to FI\n",
      "📡 Subscribed to F\n",
      "📡 Subscribed to FTNT\n",
      "📡 Subscribed to FTV\n",
      "📡 Subscribed to FOXA\n",
      "📡 Subscribed to FOX\n",
      "📡 Subscribed to BEN\n",
      "📡 Subscribed to FCX\n",
      "📡 Subscribed to GRMN\n",
      "📡 Subscribed to IT\n",
      "📡 Subscribed to GE\n",
      "📡 Subscribed to GEHC\n",
      "📡 Subscribed to GEV\n",
      "📡 Subscribed to GEN\n",
      "📡 Subscribed to GNRC\n",
      "📡 Subscribed to GD\n",
      "📡 Subscribed to GIS\n",
      "📡 Subscribed to GM\n",
      "📡 Subscribed to GPC\n",
      "📡 Subscribed to GILD\n",
      "📡 Subscribed to GPN\n",
      "📡 Subscribed to GL\n",
      "📡 Subscribed to GDDY\n",
      "📡 Subscribed to GS\n",
      "📡 Subscribed to HAL\n",
      "📡 Subscribed to HIG\n",
      "📡 Subscribed to HAS\n",
      "📡 Subscribed to HCA\n",
      "📡 Subscribed to DOC\n",
      "📡 Subscribed to HSIC\n",
      "📡 Subscribed to HSY\n",
      "📡 Subscribed to HES\n",
      "📡 Subscribed to HPE\n",
      "📡 Subscribed to HLT\n",
      "📡 Subscribed to HOLX\n",
      "📡 Subscribed to HD\n",
      "📡 Subscribed to HON\n",
      "📡 Subscribed to HRL\n",
      "📡 Subscribed to HST\n",
      "📡 Subscribed to HWM\n",
      "📡 Subscribed to HPQ\n",
      "📡 Subscribed to HUBB\n",
      "📡 Subscribed to HUM\n",
      "📡 Subscribed to HBAN\n",
      "📡 Subscribed to HII\n",
      "📡 Subscribed to IBM\n",
      "📡 Subscribed to IEX\n",
      "📡 Subscribed to IDXX\n",
      "📡 Subscribed to ITW\n",
      "📡 Subscribed to INCY\n",
      "📡 Subscribed to IR\n",
      "📡 Subscribed to PODD\n",
      "📡 Subscribed to INTC\n",
      "📡 Subscribed to ICE\n",
      "📡 Subscribed to IFF\n",
      "📡 Subscribed to IP\n",
      "📡 Subscribed to IPG\n",
      "📡 Subscribed to INTU\n",
      "📡 Subscribed to ISRG\n",
      "📡 Subscribed to IVZ\n",
      "📡 Subscribed to INVH\n",
      "📡 Subscribed to IQV\n",
      "📡 Subscribed to IRM\n",
      "📡 Subscribed to JBHT\n",
      "📡 Subscribed to JBL\n",
      "📡 Subscribed to JKHY\n",
      "📡 Subscribed to J\n",
      "📡 Subscribed to JNJ\n",
      "📡 Subscribed to JCI\n",
      "📡 Subscribed to JPM\n",
      "📡 Subscribed to JNPR\n",
      "📡 Subscribed to K\n",
      "📡 Subscribed to KVUE\n",
      "📡 Subscribed to KDP\n",
      "📡 Subscribed to KEY\n",
      "📡 Subscribed to KEYS\n",
      "📡 Subscribed to KMB\n",
      "📡 Subscribed to KIM\n",
      "📡 Subscribed to KMI\n",
      "📡 Subscribed to KKR\n",
      "📡 Subscribed to KLAC\n",
      "📡 Subscribed to KHC\n",
      "📡 Subscribed to KR\n",
      "📡 Subscribed to LHX\n",
      "📡 Subscribed to LH\n",
      "📡 Subscribed to LRCX\n",
      "📡 Subscribed to LW\n",
      "📡 Subscribed to LVS\n",
      "📡 Subscribed to LDOS\n",
      "📡 Subscribed to LEN\n",
      "📡 Subscribed to LII\n",
      "📡 Subscribed to LLY\n",
      "📡 Subscribed to LIN\n",
      "📡 Subscribed to LYV\n",
      "📡 Subscribed to LKQ\n",
      "📡 Subscribed to LMT\n",
      "📡 Subscribed to L\n",
      "📡 Subscribed to LOW\n",
      "📡 Subscribed to LULU\n",
      "📡 Subscribed to LYB\n",
      "📡 Subscribed to MTB\n",
      "📡 Subscribed to MPC\n",
      "📡 Subscribed to MKTX\n",
      "📡 Subscribed to MAR\n",
      "📡 Subscribed to MMC\n",
      "📡 Subscribed to MLM\n",
      "📡 Subscribed to MAS\n",
      "📡 Subscribed to MA\n",
      "📡 Subscribed to MTCH\n",
      "📡 Subscribed to MKC\n",
      "📡 Subscribed to MCD\n",
      "📡 Subscribed to MCK\n",
      "📡 Subscribed to MDT\n",
      "📡 Subscribed to MRK\n",
      "📡 Subscribed to META\n",
      "📡 Subscribed to MET\n",
      "📡 Subscribed to MTD\n",
      "📡 Subscribed to MGM\n",
      "📡 Subscribed to MCHP\n",
      "📡 Subscribed to MU\n",
      "📡 Subscribed to MSFT\n",
      "📡 Subscribed to MAA\n",
      "📡 Subscribed to MRNA\n",
      "📡 Subscribed to MHK\n",
      "📡 Subscribed to MOH\n",
      "📡 Subscribed to TAP\n",
      "📡 Subscribed to MDLZ\n",
      "📡 Subscribed to MPWR\n",
      "📡 Subscribed to MNST\n",
      "📡 Subscribed to MCO\n",
      "📡 Subscribed to MS\n",
      "📡 Subscribed to MOS\n",
      "📡 Subscribed to MSI\n",
      "📡 Subscribed to MSCI\n",
      "📡 Subscribed to NDAQ\n",
      "📡 Subscribed to NTAP\n",
      "📡 Subscribed to NFLX\n",
      "📡 Subscribed to NEM\n",
      "📡 Subscribed to NWSA\n",
      "📡 Subscribed to NWS\n",
      "📡 Subscribed to NEE\n",
      "📡 Subscribed to NKE\n",
      "📡 Subscribed to NI\n",
      "📡 Subscribed to NDSN\n",
      "📡 Subscribed to NSC\n",
      "📡 Subscribed to NTRS\n",
      "📡 Subscribed to NOC\n",
      "📡 Subscribed to NCLH\n",
      "📡 Subscribed to NRG\n",
      "📡 Subscribed to NUE\n",
      "📡 Subscribed to NVDA\n",
      "📡 Subscribed to NVR\n",
      "📡 Subscribed to NXPI\n",
      "📡 Subscribed to ORLY\n",
      "📡 Subscribed to OXY\n",
      "📡 Subscribed to ODFL\n",
      "📡 Subscribed to OMC\n",
      "📡 Subscribed to ON\n",
      "📡 Subscribed to OKE\n",
      "📡 Subscribed to ORCL\n",
      "📡 Subscribed to OTIS\n",
      "📡 Subscribed to PCAR\n",
      "📡 Subscribed to PKG\n",
      "📡 Subscribed to PLTR\n",
      "📡 Subscribed to PANW\n",
      "📡 Subscribed to PARA\n",
      "📡 Subscribed to PH\n",
      "📡 Subscribed to PAYX\n",
      "📡 Subscribed to PAYC\n",
      "📡 Subscribed to PYPL\n",
      "📡 Subscribed to PNR\n",
      "📡 Subscribed to PEP\n",
      "📡 Subscribed to PFE\n",
      "📡 Subscribed to PCG\n",
      "📡 Subscribed to PM\n",
      "📡 Subscribed to PSX\n",
      "📡 Subscribed to PNW\n",
      "📡 Subscribed to PNC\n",
      "📡 Subscribed to POOL\n",
      "📡 Subscribed to PPG\n",
      "📡 Subscribed to PPL\n",
      "📡 Subscribed to PFG\n",
      "📡 Subscribed to PG\n",
      "📡 Subscribed to PGR\n",
      "📡 Subscribed to PLD\n",
      "📡 Subscribed to PRU\n",
      "📡 Subscribed to PEG\n",
      "📡 Subscribed to PTC\n",
      "📡 Subscribed to PSA\n",
      "📡 Subscribed to PHM\n",
      "📡 Subscribed to PWR\n",
      "📡 Subscribed to QCOM\n",
      "📡 Subscribed to DGX\n",
      "📡 Subscribed to RL\n",
      "📡 Subscribed to RJF\n",
      "📡 Subscribed to RTX\n",
      "📡 Subscribed to O\n",
      "📡 Subscribed to REG\n",
      "📡 Subscribed to REGN\n",
      "📡 Subscribed to RF\n",
      "📡 Subscribed to RSG\n",
      "📡 Subscribed to RMD\n",
      "📡 Subscribed to RVTY\n",
      "📡 Subscribed to ROK\n",
      "📡 Subscribed to ROL\n",
      "📡 Subscribed to ROP\n",
      "📡 Subscribed to ROST\n",
      "📡 Subscribed to RCL\n",
      "📡 Subscribed to SPGI\n",
      "📡 Subscribed to CRM\n",
      "📡 Subscribed to SBAC\n",
      "📡 Subscribed to SLB\n",
      "📡 Subscribed to STX\n",
      "📡 Subscribed to SRE\n",
      "📡 Subscribed to NOW\n",
      "📡 Subscribed to SHW\n",
      "📡 Subscribed to SPG\n",
      "📡 Subscribed to SWKS\n",
      "📡 Subscribed to SJM\n",
      "📡 Subscribed to SW\n",
      "📡 Subscribed to SNA\n",
      "📡 Subscribed to SOLV\n",
      "📡 Subscribed to SO\n",
      "📡 Subscribed to LUV\n",
      "📡 Subscribed to SWK\n",
      "📡 Subscribed to SBUX\n",
      "📡 Subscribed to STT\n",
      "📡 Subscribed to STLD\n",
      "📡 Subscribed to STE\n",
      "📡 Subscribed to SYK\n",
      "📡 Subscribed to SMCI\n",
      "📡 Subscribed to SYF\n",
      "📡 Subscribed to SNPS\n",
      "📡 Subscribed to SYY\n",
      "📡 Subscribed to TMUS\n",
      "📡 Subscribed to TROW\n",
      "📡 Subscribed to TTWO\n",
      "📡 Subscribed to TPR\n",
      "📡 Subscribed to TRGP\n",
      "📡 Subscribed to TGT\n",
      "📡 Subscribed to TEL\n",
      "📡 Subscribed to TDY\n",
      "📡 Subscribed to TER\n",
      "📡 Subscribed to TSLA\n",
      "📡 Subscribed to TXN\n",
      "📡 Subscribed to TPL\n",
      "📡 Subscribed to TXT\n",
      "📡 Subscribed to TMO\n",
      "📡 Subscribed to TJX\n",
      "📡 Subscribed to TKO\n",
      "📡 Subscribed to TSCO\n",
      "📡 Subscribed to TT\n",
      "📡 Subscribed to TDG\n",
      "📡 Subscribed to TRV\n",
      "📡 Subscribed to TRMB\n",
      "📡 Subscribed to TFC\n",
      "📡 Subscribed to TYL\n",
      "📡 Subscribed to TSN\n",
      "📡 Subscribed to USB\n",
      "📡 Subscribed to UBER\n",
      "📡 Subscribed to UDR\n",
      "📡 Subscribed to ULTA\n",
      "📡 Subscribed to UNP\n",
      "📡 Subscribed to UAL\n",
      "📡 Subscribed to UPS\n",
      "📡 Subscribed to URI\n",
      "📡 Subscribed to UNH\n",
      "📡 Subscribed to UHS\n",
      "📡 Subscribed to VLO\n",
      "📡 Subscribed to VTR\n",
      "📡 Subscribed to VLTO\n",
      "📡 Subscribed to VRSN\n",
      "📡 Subscribed to VRSK\n",
      "📡 Subscribed to VZ\n",
      "📡 Subscribed to VRTX\n",
      "📡 Subscribed to VTRS\n",
      "📡 Subscribed to VICI\n",
      "📡 Subscribed to V\n",
      "📡 Subscribed to VST\n",
      "📡 Subscribed to VMC\n",
      "📡 Subscribed to WRB\n",
      "📡 Subscribed to GWW\n",
      "📡 Subscribed to WAB\n",
      "📡 Subscribed to WBA\n",
      "📡 Subscribed to WMT\n",
      "📡 Subscribed to DIS\n",
      "📡 Subscribed to WBD\n",
      "📡 Subscribed to WM\n",
      "📡 Subscribed to WAT\n",
      "📡 Subscribed to WEC\n",
      "📡 Subscribed to WFC\n",
      "📡 Subscribed to WELL\n",
      "📡 Subscribed to WST\n",
      "📡 Subscribed to WDC\n",
      "📡 Subscribed to WY\n",
      "📡 Subscribed to WSM\n",
      "📡 Subscribed to WMB\n",
      "📡 Subscribed to WTW\n",
      "📡 Subscribed to WDAY\n",
      "📡 Subscribed to WYNN\n",
      "📡 Subscribed to XEL\n",
      "📡 Subscribed to XYL\n",
      "📡 Subscribed to YUM\n",
      "📡 Subscribed to ZBRA\n",
      "📡 Subscribed to ZBH\n",
      "📡 Subscribed to ZTS\n"
     ]
    },
    {
     "name": "stderr",
     "output_type": "stream",
     "text": [
      "C:\\Users\\miklo\\AppData\\Local\\Temp\\ipykernel_7492\\3439354500.py:48: DeprecationWarning: datetime.datetime.utcnow() is deprecated and scheduled for removal in a future version. Use timezone-aware objects to represent datetimes in UTC: datetime.datetime.now(datetime.UTC).\n",
      "  end_time = datetime.utcnow() + timedelta(seconds=duration_seconds)\n",
      "C:\\Users\\miklo\\AppData\\Local\\Temp\\ipykernel_7492\\3439354500.py:51: DeprecationWarning: datetime.datetime.utcnow() is deprecated and scheduled for removal in a future version. Use timezone-aware objects to represent datetimes in UTC: datetime.datetime.now(datetime.UTC).\n",
      "  while datetime.utcnow() < end_time:\n"
     ]
    },
    {
     "name": "stdout",
     "output_type": "stream",
     "text": [
      "  Ticker                        Timestamp   Price  Size\n",
      "0   AAPL 2025-05-09 13:30:14.663000+00:00  198.95   100\n",
      "  Ticker                        Timestamp  Price  Size\n",
      "1      T 2025-05-09 13:30:48.294000+00:00  27.43   200\n",
      "  Ticker                        Timestamp  Price  Size\n",
      "2      T 2025-05-09 13:30:48.294000+00:00  27.43   200\n"
     ]
    },
    {
     "name": "stderr",
     "output_type": "stream",
     "text": [
      "C:\\Users\\miklo\\AppData\\Local\\Temp\\ipykernel_7492\\3439354500.py:51: DeprecationWarning: datetime.datetime.utcnow() is deprecated and scheduled for removal in a future version. Use timezone-aware objects to represent datetimes in UTC: datetime.datetime.now(datetime.UTC).\n",
      "  while datetime.utcnow() < end_time:\n"
     ]
    },
    {
     "name": "stdout",
     "output_type": "stream",
     "text": [
      "  Ticker                        Timestamp   Price  Size\n",
      "3      T 2025-05-09 13:30:57.065000+00:00  27.445   400\n",
      "  Ticker                        Timestamp  Price  Size\n",
      "4   ADBE 2025-05-09 13:31:05.597000+00:00  384.0   100\n",
      "  Ticker                        Timestamp  Price  Size\n",
      "5    ADI 2025-05-09 13:30:48.306000+00:00  209.3   100\n",
      "  Ticker                        Timestamp   Price  Size\n",
      "6   ADBE 2025-05-09 13:31:05.599000+00:00  383.98   100\n",
      "  Ticker                        Timestamp   Price  Size\n",
      "7  GOOGL 2025-05-09 13:30:14.774000+00:00  154.51   100\n",
      "  Ticker                        Timestamp   Price  Size\n",
      "8  GOOGL 2025-05-09 13:30:14.774000+00:00  154.51   100\n",
      "  Ticker                        Timestamp   Price  Size\n",
      "9      T 2025-05-09 13:31:05.308000+00:00  27.435   100\n",
      "   Ticker                        Timestamp   Price  Size\n",
      "10   AAPL 2025-05-09 13:30:48.601000+00:00  199.45   100\n",
      "   Ticker                        Timestamp   Price  Size\n",
      "11   AAPL 2025-05-09 13:30:48.601000+00:00  199.45   100\n",
      "   Ticker                        Timestamp   Price  Size\n",
      "12   AMZN 2025-05-09 13:31:05.880000+00:00  194.16   100\n",
      "   Ticker                        Timestamp    Price  Size\n",
      "13   AMZN 2025-05-09 13:30:14.789000+00:00  193.955   100\n"
     ]
    },
    {
     "name": "stderr",
     "output_type": "stream",
     "text": [
      "C:\\Users\\miklo\\AppData\\Local\\Temp\\ipykernel_7492\\3439354500.py:51: DeprecationWarning: datetime.datetime.utcnow() is deprecated and scheduled for removal in a future version. Use timezone-aware objects to represent datetimes in UTC: datetime.datetime.now(datetime.UTC).\n",
      "  while datetime.utcnow() < end_time:\n"
     ]
    },
    {
     "name": "stdout",
     "output_type": "stream",
     "text": [
      "   Ticker                        Timestamp   Price  Size\n",
      "14   AMZN 2025-05-09 13:30:57.138000+00:00  194.19   100\n",
      "   Ticker                        Timestamp   Price  Size\n",
      "15   AMZN 2025-05-09 13:30:57.155000+00:00  194.18   100\n"
     ]
    },
    {
     "name": "stderr",
     "output_type": "stream",
     "text": [
      "C:\\Users\\miklo\\AppData\\Local\\Temp\\ipykernel_7492\\3439354500.py:51: DeprecationWarning: datetime.datetime.utcnow() is deprecated and scheduled for removal in a future version. Use timezone-aware objects to represent datetimes in UTC: datetime.datetime.now(datetime.UTC).\n",
      "  while datetime.utcnow() < end_time:\n"
     ]
    },
    {
     "name": "stdout",
     "output_type": "stream",
     "text": [
      "   Ticker                        Timestamp   Price  Size\n",
      "16      T 2025-05-09 13:31:05.575000+00:00  27.435   100\n"
     ]
    },
    {
     "name": "stderr",
     "output_type": "stream",
     "text": [
      "C:\\Users\\miklo\\AppData\\Local\\Temp\\ipykernel_7492\\3439354500.py:51: DeprecationWarning: datetime.datetime.utcnow() is deprecated and scheduled for removal in a future version. Use timezone-aware objects to represent datetimes in UTC: datetime.datetime.now(datetime.UTC).\n",
      "  while datetime.utcnow() < end_time:\n"
     ]
    },
    {
     "name": "stdout",
     "output_type": "stream",
     "text": [
      "   Ticker                        Timestamp   Price  Size\n",
      "17   AAPL 2025-05-09 13:30:15.053000+00:00  198.94   500\n"
     ]
    },
    {
     "name": "stderr",
     "output_type": "stream",
     "text": [
      "C:\\Users\\miklo\\AppData\\Local\\Temp\\ipykernel_7492\\3439354500.py:51: DeprecationWarning: datetime.datetime.utcnow() is deprecated and scheduled for removal in a future version. Use timezone-aware objects to represent datetimes in UTC: datetime.datetime.now(datetime.UTC).\n",
      "  while datetime.utcnow() < end_time:\n"
     ]
    },
    {
     "name": "stdout",
     "output_type": "stream",
     "text": [
      "   Ticker                        Timestamp   Price  Size\n",
      "18   AMZN 2025-05-09 13:30:28.462000+00:00  194.17   191\n",
      "   Ticker                        Timestamp   Price  Size\n",
      "19  GOOGL 2025-05-09 13:30:15.344000+00:00  154.46   100\n"
     ]
    },
    {
     "name": "stderr",
     "output_type": "stream",
     "text": [
      "C:\\Users\\miklo\\AppData\\Local\\Temp\\ipykernel_7492\\3439354500.py:51: DeprecationWarning: datetime.datetime.utcnow() is deprecated and scheduled for removal in a future version. Use timezone-aware objects to represent datetimes in UTC: datetime.datetime.now(datetime.UTC).\n",
      "  while datetime.utcnow() < end_time:\n"
     ]
    },
    {
     "name": "stdout",
     "output_type": "stream",
     "text": [
      "   Ticker                        Timestamp   Price  Size\n",
      "20   AAPL 2025-05-09 13:31:05.950000+00:00  199.62   100\n"
     ]
    },
    {
     "name": "stderr",
     "output_type": "stream",
     "text": [
      "C:\\Users\\miklo\\AppData\\Local\\Temp\\ipykernel_7492\\3439354500.py:51: DeprecationWarning: datetime.datetime.utcnow() is deprecated and scheduled for removal in a future version. Use timezone-aware objects to represent datetimes in UTC: datetime.datetime.now(datetime.UTC).\n",
      "  while datetime.utcnow() < end_time:\n"
     ]
    },
    {
     "name": "stdout",
     "output_type": "stream",
     "text": [
      "   Ticker                        Timestamp  Price  Size\n",
      "21      T 2025-05-09 13:30:52.936000+00:00  27.45   100\n"
     ]
    },
    {
     "name": "stderr",
     "output_type": "stream",
     "text": [
      "C:\\Users\\miklo\\AppData\\Local\\Temp\\ipykernel_7492\\3439354500.py:51: DeprecationWarning: datetime.datetime.utcnow() is deprecated and scheduled for removal in a future version. Use timezone-aware objects to represent datetimes in UTC: datetime.datetime.now(datetime.UTC).\n",
      "  while datetime.utcnow() < end_time:\n"
     ]
    },
    {
     "name": "stdout",
     "output_type": "stream",
     "text": [
      "   Ticker                        Timestamp   Price  Size\n",
      "22   ABNB 2025-05-09 13:30:28.783000+00:00  124.75   100\n",
      "   Ticker                        Timestamp  Price  Size\n",
      "23   AAPL 2025-05-09 13:30:28.833000+00:00  199.3   135\n",
      "   Ticker                        Timestamp   Price  Size\n",
      "24   AAPL 2025-05-09 13:30:28.834000+00:00  199.29   100\n",
      "   Ticker                        Timestamp   Price  Size\n",
      "25   AAPL 2025-05-09 13:30:28.835000+00:00  199.29   100\n"
     ]
    },
    {
     "name": "stderr",
     "output_type": "stream",
     "text": [
      "C:\\Users\\miklo\\AppData\\Local\\Temp\\ipykernel_7492\\3439354500.py:51: DeprecationWarning: datetime.datetime.utcnow() is deprecated and scheduled for removal in a future version. Use timezone-aware objects to represent datetimes in UTC: datetime.datetime.now(datetime.UTC).\n",
      "  while datetime.utcnow() < end_time:\n"
     ]
    },
    {
     "name": "stdout",
     "output_type": "stream",
     "text": [
      "   Ticker                        Timestamp   Price  Size\n",
      "26   GOOG 2025-05-09 13:31:06.252000+00:00  156.08   100\n",
      "   Ticker                        Timestamp   Price  Size\n",
      "27   AMZN 2025-05-09 13:31:06.266000+00:00  194.09   100\n"
     ]
    },
    {
     "name": "stderr",
     "output_type": "stream",
     "text": [
      "C:\\Users\\miklo\\AppData\\Local\\Temp\\ipykernel_7492\\3439354500.py:51: DeprecationWarning: datetime.datetime.utcnow() is deprecated and scheduled for removal in a future version. Use timezone-aware objects to represent datetimes in UTC: datetime.datetime.now(datetime.UTC).\n",
      "  while datetime.utcnow() < end_time:\n"
     ]
    },
    {
     "name": "stdout",
     "output_type": "stream",
     "text": [
      "   Ticker                        Timestamp   Price  Size\n",
      "28   ADBE 2025-05-09 13:30:57.749000+00:00  384.44   100\n",
      "   Ticker                        Timestamp   Price  Size\n",
      "29   ADBE 2025-05-09 13:30:57.749000+00:00  384.44   100\n",
      "   Ticker                        Timestamp   Price  Size\n",
      "30   ADBE 2025-05-09 13:30:57.749000+00:00  384.44   100\n",
      "   Ticker                        Timestamp  Price  Size\n",
      "31   ANET 2025-05-09 13:31:06.317000+00:00  88.32   100\n",
      "   Ticker                        Timestamp  Price  Size\n",
      "32   ANET 2025-05-09 13:31:06.317000+00:00  88.32   100\n",
      "   Ticker                        Timestamp  Price  Size\n",
      "33   AAPL 2025-05-09 13:30:57.801000+00:00  199.7  1900\n",
      "   Ticker                        Timestamp   Price  Size\n",
      "34   AAPL 2025-05-09 13:30:57.802000+00:00  199.71   150\n",
      "   Ticker                        Timestamp   Price  Size\n",
      "35   AAPL 2025-05-09 13:30:57.802000+00:00  199.71  1725\n",
      "   Ticker                        Timestamp   Price  Size\n",
      "36   AAPL 2025-05-09 13:30:57.802000+00:00  199.71   100\n",
      "   Ticker                        Timestamp   Price  Size\n",
      "37   AAPL 2025-05-09 13:30:57.802000+00:00  199.72   200\n",
      "   Ticker                        Timestamp   Price  Size\n",
      "38   AAPL 2025-05-09 13:30:57.803000+00:00  199.72   100\n",
      "   Ticker                        Timestamp    Price  Size\n",
      "39   ADBE 2025-05-09 13:30:57.814000+00:00  384.355   100\n"
     ]
    },
    {
     "name": "stderr",
     "output_type": "stream",
     "text": [
      "C:\\Users\\miklo\\AppData\\Local\\Temp\\ipykernel_7492\\3439354500.py:51: DeprecationWarning: datetime.datetime.utcnow() is deprecated and scheduled for removal in a future version. Use timezone-aware objects to represent datetimes in UTC: datetime.datetime.now(datetime.UTC).\n",
      "  while datetime.utcnow() < end_time:\n"
     ]
    },
    {
     "name": "stdout",
     "output_type": "stream",
     "text": [
      "   Ticker                        Timestamp   Price  Size\n",
      "40      T 2025-05-09 13:31:06.427000+00:00  27.435   111\n",
      "   Ticker                        Timestamp   Price  Size\n",
      "41      T 2025-05-09 13:31:06.427000+00:00  27.435   111\n",
      "   Ticker                        Timestamp  Price  Size\n",
      "42     MO 2025-05-09 13:31:06.494000+00:00  59.98   154\n",
      "   Ticker                        Timestamp  Price  Size\n",
      "43     MO 2025-05-09 13:31:06.494000+00:00  59.97   100\n",
      "   Ticker                        Timestamp  Price  Size\n",
      "44     MO 2025-05-09 13:31:06.495000+00:00  59.98   100\n",
      "   Ticker                        Timestamp  Price  Size\n",
      "45     MO 2025-05-09 13:31:06.495000+00:00  59.96   100\n",
      "   Ticker                        Timestamp  Price  Size\n",
      "46     MO 2025-05-09 13:31:06.498000+00:00  59.97   100\n",
      "   Ticker                        Timestamp  Price  Size\n",
      "47     MO 2025-05-09 13:31:06.508000+00:00  59.94   107\n",
      "   Ticker                        Timestamp   Price  Size\n",
      "48    AMD 2025-05-09 13:30:29.387000+00:00  103.19   100\n",
      "   Ticker                        Timestamp   Price  Size\n",
      "49    AMD 2025-05-09 13:30:29.387000+00:00  103.19   100\n",
      "   Ticker                        Timestamp   Price  Size\n",
      "50      T 2025-05-09 13:30:29.418000+00:00  27.495   397\n",
      "   Ticker                        Timestamp   Price  Size\n",
      "51      T 2025-05-09 13:30:29.418000+00:00  27.495   302\n",
      "   Ticker                        Timestamp  Price  Size\n",
      "52      T 2025-05-09 13:30:29.418000+00:00  27.49   200\n",
      "   Ticker                        Timestamp  Price  Size\n",
      "53      T 2025-05-09 13:30:29.418000+00:00  27.49   200\n",
      "   Ticker                        Timestamp  Price  Size\n",
      "54    APA 2025-05-09 13:31:06.556000+00:00  16.81   100\n",
      "   Ticker                        Timestamp  Price  Size\n",
      "55    APA 2025-05-09 13:31:06.567000+00:00  16.82   100\n"
     ]
    },
    {
     "name": "stderr",
     "output_type": "stream",
     "text": [
      "C:\\Users\\miklo\\AppData\\Local\\Temp\\ipykernel_7492\\3439354500.py:51: DeprecationWarning: datetime.datetime.utcnow() is deprecated and scheduled for removal in a future version. Use timezone-aware objects to represent datetimes in UTC: datetime.datetime.now(datetime.UTC).\n",
      "  while datetime.utcnow() < end_time:\n"
     ]
    },
    {
     "name": "stdout",
     "output_type": "stream",
     "text": [
      "   Ticker                        Timestamp   Price  Size\n",
      "56   GOOG 2025-05-09 13:31:06.689000+00:00  156.09   100\n",
      "   Ticker                        Timestamp  Price  Size\n",
      "57    APA 2025-05-09 13:31:06.735000+00:00  16.82   200\n",
      "   Ticker                        Timestamp  Price  Size\n",
      "58   AKAM 2025-05-09 13:33:13.026000+00:00  82.96   101\n",
      "   Ticker                        Timestamp   Price  Size\n",
      "59   AAPL 2025-05-09 13:30:29.585000+00:00  199.32   100\n"
     ]
    },
    {
     "name": "stderr",
     "output_type": "stream",
     "text": [
      "C:\\Users\\miklo\\AppData\\Local\\Temp\\ipykernel_7492\\3439354500.py:51: DeprecationWarning: datetime.datetime.utcnow() is deprecated and scheduled for removal in a future version. Use timezone-aware objects to represent datetimes in UTC: datetime.datetime.now(datetime.UTC).\n",
      "  while datetime.utcnow() < end_time:\n"
     ]
    },
    {
     "name": "stdout",
     "output_type": "stream",
     "text": [
      "   Ticker                        Timestamp   Price  Size\n",
      "60      T 2025-05-09 13:31:07.037000+00:00  27.435   111\n"
     ]
    },
    {
     "name": "stderr",
     "output_type": "stream",
     "text": [
      "C:\\Users\\miklo\\AppData\\Local\\Temp\\ipykernel_7492\\3439354500.py:51: DeprecationWarning: datetime.datetime.utcnow() is deprecated and scheduled for removal in a future version. Use timezone-aware objects to represent datetimes in UTC: datetime.datetime.now(datetime.UTC).\n",
      "  while datetime.utcnow() < end_time:\n"
     ]
    },
    {
     "name": "stdout",
     "output_type": "stream",
     "text": [
      "   Ticker                        Timestamp   Price  Size\n",
      "61   AAPL 2025-05-09 13:31:06.918000+00:00  199.63   100\n",
      "   Ticker                        Timestamp   Price  Size\n",
      "62   AAPL 2025-05-09 13:31:06.924000+00:00  199.63   100\n",
      "   Ticker                        Timestamp   Price  Size\n",
      "63   AAPL 2025-05-09 13:31:06.924000+00:00  199.62   100\n",
      "   Ticker                        Timestamp   Price  Size\n",
      "64    AMD 2025-05-09 13:31:06.946000+00:00  102.97   100\n",
      "   Ticker                        Timestamp    Price  Size\n",
      "65    AMD 2025-05-09 13:31:06.952000+00:00  102.995   100\n",
      "   Ticker                        Timestamp    Price  Size\n",
      "66    AMD 2025-05-09 13:31:06.952000+00:00  102.995   100\n",
      "   Ticker                        Timestamp   Price  Size\n",
      "67   AAPL 2025-05-09 13:31:06.958000+00:00  199.68   300\n",
      "   Ticker                        Timestamp   Price  Size\n",
      "68   AAPL 2025-05-09 13:31:06.961000+00:00  199.68   100\n",
      "   Ticker                        Timestamp   Price  Size\n",
      "69    AMD 2025-05-09 13:30:58.657000+00:00  103.08   100\n",
      "   Ticker                        Timestamp   Price  Size\n",
      "70    AMD 2025-05-09 13:30:58.657000+00:00  103.08   100\n",
      "   Ticker                        Timestamp   Price  Size\n",
      "71    AMD 2025-05-09 13:30:58.657000+00:00  103.08   100\n"
     ]
    },
    {
     "name": "stderr",
     "output_type": "stream",
     "text": [
      "C:\\Users\\miklo\\AppData\\Local\\Temp\\ipykernel_7492\\3439354500.py:51: DeprecationWarning: datetime.datetime.utcnow() is deprecated and scheduled for removal in a future version. Use timezone-aware objects to represent datetimes in UTC: datetime.datetime.now(datetime.UTC).\n",
      "  while datetime.utcnow() < end_time:\n"
     ]
    },
    {
     "name": "stdout",
     "output_type": "stream",
     "text": [
      "   Ticker                        Timestamp   Price  Size\n",
      "72  GOOGL 2025-05-09 13:31:07.208000+00:00  154.72   138\n",
      "   Ticker                        Timestamp   Price  Size\n",
      "73  GOOGL 2025-05-09 13:31:07.208000+00:00  154.72   138\n",
      "   Ticker                        Timestamp   Price  Size\n",
      "74  GOOGL 2025-05-09 13:31:07.208000+00:00  154.72   162\n",
      "   Ticker                        Timestamp   Price  Size\n",
      "75   GOOG 2025-05-09 13:30:58.673000+00:00  156.04   200\n"
     ]
    },
    {
     "name": "stderr",
     "output_type": "stream",
     "text": [
      "C:\\Users\\miklo\\AppData\\Local\\Temp\\ipykernel_7492\\3439354500.py:51: DeprecationWarning: datetime.datetime.utcnow() is deprecated and scheduled for removal in a future version. Use timezone-aware objects to represent datetimes in UTC: datetime.datetime.now(datetime.UTC).\n",
      "  while datetime.utcnow() < end_time:\n"
     ]
    },
    {
     "name": "stdout",
     "output_type": "stream",
     "text": [
      "   Ticker                        Timestamp  Price  Size\n",
      "76    APA 2025-05-09 13:33:13.236000+00:00  16.79   100\n",
      "   Ticker                        Timestamp   Price  Size\n",
      "77      T 2025-05-09 13:31:07.037000+00:00  27.435   111\n"
     ]
    },
    {
     "name": "stderr",
     "output_type": "stream",
     "text": [
      "C:\\Users\\miklo\\AppData\\Local\\Temp\\ipykernel_7492\\3439354500.py:51: DeprecationWarning: datetime.datetime.utcnow() is deprecated and scheduled for removal in a future version. Use timezone-aware objects to represent datetimes in UTC: datetime.datetime.now(datetime.UTC).\n",
      "  while datetime.utcnow() < end_time:\n"
     ]
    },
    {
     "name": "stdout",
     "output_type": "stream",
     "text": [
      "   Ticker                        Timestamp  Price  Size\n",
      "78   AKAM 2025-05-09 13:30:58.964000+00:00  80.91   100\n",
      "   Ticker                        Timestamp   Price  Size\n",
      "79   GOOG 2025-05-09 13:30:59.044000+00:00  156.09   100\n",
      "   Ticker                        Timestamp   Price  Size\n",
      "80  GOOGL 2025-05-09 13:30:59.045000+00:00  154.63   100\n",
      "   Ticker                        Timestamp   Price  Size\n",
      "81   ADBE 2025-05-09 13:31:07.363000+00:00  384.01   100\n",
      "   Ticker                        Timestamp  Price  Size\n",
      "82   ADBE 2025-05-09 13:31:07.363000+00:00  384.1   175\n",
      "   Ticker                        Timestamp  Price  Size\n",
      "83   ADBE 2025-05-09 13:31:07.363000+00:00  384.1   125\n",
      "   Ticker                        Timestamp   Price  Size\n",
      "84    AMD 2025-05-09 13:30:29.759000+00:00  103.16   100\n",
      "   Ticker                        Timestamp  Price  Size\n",
      "85    APH 2025-05-09 13:31:07.659000+00:00  81.08   200\n",
      "   Ticker                        Timestamp  Price  Size\n",
      "86    APH 2025-05-09 13:31:07.661000+00:00  81.05   100\n",
      "   Ticker                        Timestamp  Price  Size\n",
      "87    APA 2025-05-09 13:31:07.783000+00:00  16.82   100\n",
      "   Ticker                        Timestamp   Price  Size\n",
      "88   AAPL 2025-05-09 13:30:59.351000+00:00  199.71   100\n"
     ]
    },
    {
     "name": "stderr",
     "output_type": "stream",
     "text": [
      "C:\\Users\\miklo\\AppData\\Local\\Temp\\ipykernel_7492\\3439354500.py:51: DeprecationWarning: datetime.datetime.utcnow() is deprecated and scheduled for removal in a future version. Use timezone-aware objects to represent datetimes in UTC: datetime.datetime.now(datetime.UTC).\n",
      "  while datetime.utcnow() < end_time:\n",
      "C:\\Users\\miklo\\AppData\\Local\\Temp\\ipykernel_7492\\3439354500.py:51: DeprecationWarning: datetime.datetime.utcnow() is deprecated and scheduled for removal in a future version. Use timezone-aware objects to represent datetimes in UTC: datetime.datetime.now(datetime.UTC).\n",
      "  while datetime.utcnow() < end_time:\n"
     ]
    },
    {
     "name": "stdout",
     "output_type": "stream",
     "text": [
      "   Ticker                        Timestamp  Price  Size\n",
      "89    AIG 2025-05-09 13:31:08.078000+00:00  82.14   100\n",
      "   Ticker                        Timestamp  Price  Size\n",
      "90    AES 2025-05-09 13:31:08.238000+00:00  10.93   500\n",
      "   Ticker                        Timestamp  Price  Size\n",
      "91    AES 2025-05-09 13:31:08.238000+00:00  10.93   700\n",
      "   Ticker                        Timestamp  Price  Size\n",
      "92    AES 2025-05-09 13:31:08.238000+00:00  10.93   600\n"
     ]
    },
    {
     "name": "stderr",
     "output_type": "stream",
     "text": [
      "C:\\Users\\miklo\\AppData\\Local\\Temp\\ipykernel_7492\\3439354500.py:51: DeprecationWarning: datetime.datetime.utcnow() is deprecated and scheduled for removal in a future version. Use timezone-aware objects to represent datetimes in UTC: datetime.datetime.now(datetime.UTC).\n",
      "  while datetime.utcnow() < end_time:\n",
      "C:\\Users\\miklo\\AppData\\Local\\Temp\\ipykernel_7492\\3439354500.py:31: DeprecationWarning: datetime.datetime.utcnow() is deprecated and scheduled for removal in a future version. Use timezone-aware objects to represent datetimes in UTC: datetime.datetime.now(datetime.UTC).\n",
      "  timestamp = datetime.utcnow().strftime(\"%Y%m%d_%H%M%S\")\n"
     ]
    },
    {
     "name": "stdout",
     "output_type": "stream",
     "text": [
      "💾 Salvato 93 righe in dati_stream/finnhub_stream_20250509_133328.csv\n",
      "   Ticker                        Timestamp   Price  Size\n",
      "93   GOOG 2025-05-09 13:31:08.430000+00:00  156.19   100\n",
      "   Ticker                        Timestamp   Price  Size\n",
      "94   GOOG 2025-05-09 13:31:08.430000+00:00  156.19   100\n",
      "   Ticker                        Timestamp   Price  Size\n",
      "95   GOOG 2025-05-09 13:31:08.441000+00:00  156.19   300\n",
      "   Ticker                        Timestamp   Price  Size\n",
      "96   GOOG 2025-05-09 13:31:08.441000+00:00  156.21   332\n",
      "   Ticker                        Timestamp   Price  Size\n",
      "97   GOOG 2025-05-09 13:31:08.441000+00:00  156.21   100\n"
     ]
    },
    {
     "name": "stderr",
     "output_type": "stream",
     "text": [
      "C:\\Users\\miklo\\AppData\\Local\\Temp\\ipykernel_7492\\3439354500.py:51: DeprecationWarning: datetime.datetime.utcnow() is deprecated and scheduled for removal in a future version. Use timezone-aware objects to represent datetimes in UTC: datetime.datetime.now(datetime.UTC).\n",
      "  while datetime.utcnow() < end_time:\n"
     ]
    },
    {
     "name": "stdout",
     "output_type": "stream",
     "text": [
      "   Ticker                        Timestamp   Price  Size\n",
      "98    AMD 2025-05-09 13:31:34.748000+00:00  103.09   100\n"
     ]
    },
    {
     "name": "stderr",
     "output_type": "stream",
     "text": [
      "C:\\Users\\miklo\\AppData\\Local\\Temp\\ipykernel_7492\\3439354500.py:51: DeprecationWarning: datetime.datetime.utcnow() is deprecated and scheduled for removal in a future version. Use timezone-aware objects to represent datetimes in UTC: datetime.datetime.now(datetime.UTC).\n",
      "  while datetime.utcnow() < end_time:\n"
     ]
    },
    {
     "name": "stdout",
     "output_type": "stream",
     "text": [
      "   Ticker                        Timestamp   Price  Size\n",
      "99    AMD 2025-05-09 13:31:34.900000+00:00  103.09   100\n",
      "    Ticker                        Timestamp  Price  Size\n",
      "100    ALB 2025-05-09 13:30:30.133000+00:00  58.39   100\n"
     ]
    },
    {
     "name": "stderr",
     "output_type": "stream",
     "text": [
      "C:\\Users\\miklo\\AppData\\Local\\Temp\\ipykernel_7492\\3439354500.py:51: DeprecationWarning: datetime.datetime.utcnow() is deprecated and scheduled for removal in a future version. Use timezone-aware objects to represent datetimes in UTC: datetime.datetime.now(datetime.UTC).\n",
      "  while datetime.utcnow() < end_time:\n"
     ]
    },
    {
     "name": "stdout",
     "output_type": "stream",
     "text": [
      "    Ticker                        Timestamp    Price  Size\n",
      "101    AMD 2025-05-09 13:31:35.226000+00:00  103.075   100\n",
      "    Ticker                        Timestamp    Price  Size\n",
      "102    AMD 2025-05-09 13:31:35.226000+00:00  103.075   100\n",
      "    Ticker                        Timestamp    Price  Size\n",
      "103    AMD 2025-05-09 13:31:35.226000+00:00  103.075   100\n",
      "    Ticker                        Timestamp  Price  Size\n",
      "104    AES 2025-05-09 13:31:35.244000+00:00  10.98   700\n",
      "    Ticker                        Timestamp  Price  Size\n",
      "105    AES 2025-05-09 13:31:35.244000+00:00  10.99   100\n",
      "    Ticker                        Timestamp   Price  Size\n",
      "106      T 2025-05-09 13:30:57.065000+00:00  27.445   400\n",
      "    Ticker                        Timestamp  Price  Size\n",
      "107      T 2025-05-09 13:30:30.165000+00:00   27.5   200\n",
      "    Ticker                        Timestamp  Price  Size\n",
      "108      T 2025-05-09 13:30:30.165000+00:00   27.5   200\n"
     ]
    },
    {
     "name": "stderr",
     "output_type": "stream",
     "text": [
      "C:\\Users\\miklo\\AppData\\Local\\Temp\\ipykernel_7492\\3439354500.py:51: DeprecationWarning: datetime.datetime.utcnow() is deprecated and scheduled for removal in a future version. Use timezone-aware objects to represent datetimes in UTC: datetime.datetime.now(datetime.UTC).\n",
      "  while datetime.utcnow() < end_time:\n"
     ]
    },
    {
     "name": "stdout",
     "output_type": "stream",
     "text": [
      "    Ticker                        Timestamp   Price  Size\n",
      "109   AMZN 2025-05-09 13:33:14.868000+00:00  193.55   200\n",
      "    Ticker                        Timestamp   Price  Size\n",
      "110   AMZN 2025-05-09 13:33:14.869000+00:00  193.58   100\n"
     ]
    },
    {
     "name": "stderr",
     "output_type": "stream",
     "text": [
      "C:\\Users\\miklo\\AppData\\Local\\Temp\\ipykernel_7492\\3439354500.py:51: DeprecationWarning: datetime.datetime.utcnow() is deprecated and scheduled for removal in a future version. Use timezone-aware objects to represent datetimes in UTC: datetime.datetime.now(datetime.UTC).\n",
      "  while datetime.utcnow() < end_time:\n"
     ]
    },
    {
     "name": "stdout",
     "output_type": "stream",
     "text": [
      "    Ticker                        Timestamp   Price  Size\n",
      "111  GOOGL 2025-05-09 13:30:30.313000+00:00  154.51   100\n",
      "    Ticker                        Timestamp   Price  Size\n",
      "112  GOOGL 2025-05-09 13:30:30.313000+00:00  154.51   100\n",
      "    Ticker                        Timestamp   Price  Size\n",
      "113  GOOGL 2025-05-09 13:30:30.314000+00:00  154.51   100\n",
      "    Ticker                        Timestamp   Price  Size\n",
      "114    AMD 2025-05-09 13:30:30.328000+00:00  103.09   100\n",
      "    Ticker                        Timestamp   Price  Size\n",
      "115    AMD 2025-05-09 13:30:30.330000+00:00  103.06   100\n",
      "    Ticker                        Timestamp   Price  Size\n",
      "116    AMD 2025-05-09 13:30:30.331000+00:00  103.06   100\n",
      "    Ticker                        Timestamp   Price  Size\n",
      "117    AMD 2025-05-09 13:30:30.331000+00:00  103.06   100\n",
      "    Ticker                        Timestamp  Price  Size\n",
      "118    AMD 2025-05-09 13:30:30.331000+00:00  103.1   100\n",
      "    Ticker                        Timestamp  Price  Size\n",
      "119    AMD 2025-05-09 13:30:30.331000+00:00  103.1   100\n",
      "    Ticker                        Timestamp  Price  Size\n",
      "120      T 2025-05-09 13:31:08.989000+00:00  27.44   100\n",
      "    Ticker                        Timestamp  Price  Size\n",
      "121      T 2025-05-09 13:31:08.989000+00:00  27.44   100\n",
      "    Ticker                        Timestamp   Price  Size\n",
      "122    ADI 2025-05-09 13:31:09.003000+00:00  208.92   100\n",
      "    Ticker                        Timestamp   Price  Size\n",
      "123    ADI 2025-05-09 13:31:09.003000+00:00  208.92   100\n",
      "    Ticker                        Timestamp   Price  Size\n",
      "124    ADI 2025-05-09 13:31:09.004000+00:00  208.92   100\n",
      "    Ticker                        Timestamp   Price  Size\n",
      "125   AMZN 2025-05-09 13:30:59.702000+00:00  194.09   100\n",
      "    Ticker                        Timestamp   Price  Size\n",
      "126    AMD 2025-05-09 13:30:30.333000+00:00  103.07   100\n"
     ]
    },
    {
     "name": "stderr",
     "output_type": "stream",
     "text": [
      "C:\\Users\\miklo\\AppData\\Local\\Temp\\ipykernel_7492\\3439354500.py:51: DeprecationWarning: datetime.datetime.utcnow() is deprecated and scheduled for removal in a future version. Use timezone-aware objects to represent datetimes in UTC: datetime.datetime.now(datetime.UTC).\n",
      "  while datetime.utcnow() < end_time:\n"
     ]
    },
    {
     "name": "stdout",
     "output_type": "stream",
     "text": [
      "    Ticker                        Timestamp   Price  Size\n",
      "127   ABBV 2025-05-09 13:31:09.053000+00:00  185.47   100\n",
      "    Ticker                        Timestamp   Price  Size\n",
      "128   ABBV 2025-05-09 13:31:09.054000+00:00  185.47   100\n",
      "    Ticker                        Timestamp   Price  Size\n",
      "129   ABBV 2025-05-09 13:31:09.054000+00:00  185.47   105\n",
      "    Ticker                        Timestamp   Price  Size\n",
      "130   ABBV 2025-05-09 13:31:09.056000+00:00  185.47   100\n",
      "    Ticker                        Timestamp   Price  Size\n",
      "131   ABBV 2025-05-09 13:30:30.370000+00:00  185.21   100\n",
      "    Ticker                        Timestamp  Price  Size\n",
      "132   ABBV 2025-05-09 13:30:30.370000+00:00  185.2   100\n",
      "    Ticker                        Timestamp   Price  Size\n",
      "133   GOOG 2025-05-09 13:30:30.417000+00:00  155.98   100\n",
      "    Ticker                        Timestamp  Price  Size\n",
      "134   ANET 2025-05-09 13:30:30.498000+00:00  88.18   100\n",
      "    Ticker                        Timestamp  Price  Size\n",
      "135   ANET 2025-05-09 13:30:30.498000+00:00  88.18   100\n"
     ]
    },
    {
     "name": "stderr",
     "output_type": "stream",
     "text": [
      "C:\\Users\\miklo\\AppData\\Local\\Temp\\ipykernel_7492\\3439354500.py:51: DeprecationWarning: datetime.datetime.utcnow() is deprecated and scheduled for removal in a future version. Use timezone-aware objects to represent datetimes in UTC: datetime.datetime.now(datetime.UTC).\n",
      "  while datetime.utcnow() < end_time:\n"
     ]
    },
    {
     "name": "stdout",
     "output_type": "stream",
     "text": [
      "    Ticker                        Timestamp  Price  Size\n",
      "136      T 2025-05-09 13:30:30.646000+00:00  27.49   100\n",
      "    Ticker                        Timestamp  Price  Size\n",
      "137      T 2025-05-09 13:30:30.646000+00:00  27.49   180\n",
      "    Ticker                        Timestamp  Price  Size\n",
      "138      T 2025-05-09 13:30:30.646000+00:00  27.49   200\n",
      "    Ticker                        Timestamp  Price  Size\n",
      "139      T 2025-05-09 13:30:30.646000+00:00  27.49   100\n",
      "    Ticker                        Timestamp  Price  Size\n",
      "140      T 2025-05-09 13:30:30.647000+00:00  27.48   100\n",
      "    Ticker                        Timestamp   Price  Size\n",
      "141   AMGN 2025-05-09 13:30:30.650000+00:00  270.29   100\n",
      "    Ticker                        Timestamp   Price  Size\n",
      "142   AMGN 2025-05-09 13:30:30.650000+00:00  270.29   100\n",
      "    Ticker                        Timestamp  Price  Size\n",
      "143      T 2025-05-09 13:30:30.648000+00:00  27.48   100\n",
      "    Ticker                        Timestamp  Price  Size\n",
      "144      T 2025-05-09 13:30:30.648000+00:00  27.48   100\n",
      "    Ticker                        Timestamp   Price  Size\n",
      "145      T 2025-05-09 13:30:30.654000+00:00  27.475   200\n",
      "    Ticker                        Timestamp  Price  Size\n",
      "146    APA 2025-05-09 13:31:36.060000+00:00  16.84   100\n",
      "    Ticker                        Timestamp   Price  Size\n",
      "147    AMD 2025-05-09 13:30:59.838000+00:00  103.08   100\n",
      "    Ticker                        Timestamp   Price  Size\n",
      "148    AMD 2025-05-09 13:30:59.838000+00:00  103.08   101\n",
      "    Ticker                        Timestamp   Price  Size\n",
      "149   ADBE 2025-05-09 13:30:30.746000+00:00  385.37   100\n",
      "    Ticker                        Timestamp   Price  Size\n",
      "150   ADBE 2025-05-09 13:30:30.746000+00:00  385.41   100\n"
     ]
    },
    {
     "name": "stderr",
     "output_type": "stream",
     "text": [
      "C:\\Users\\miklo\\AppData\\Local\\Temp\\ipykernel_7492\\3439354500.py:51: DeprecationWarning: datetime.datetime.utcnow() is deprecated and scheduled for removal in a future version. Use timezone-aware objects to represent datetimes in UTC: datetime.datetime.now(datetime.UTC).\n",
      "  while datetime.utcnow() < end_time:\n"
     ]
    },
    {
     "name": "stdout",
     "output_type": "stream",
     "text": [
      "    Ticker                        Timestamp  Price  Size\n",
      "151    ALB 2025-05-09 13:31:36.101000+00:00  58.46   100\n",
      "    Ticker                        Timestamp   Price  Size\n",
      "152   ABBV 2025-05-09 13:31:09.062000+00:00  185.47   100\n",
      "    Ticker                        Timestamp    Price  Size\n",
      "153   GOOG 2025-05-09 13:31:09.213000+00:00  156.115   100\n",
      "    Ticker                        Timestamp   Price  Size\n",
      "154   GOOG 2025-05-09 13:31:09.213000+00:00  156.12   100\n",
      "    Ticker                        Timestamp  Price  Size\n",
      "155    APH 2025-05-09 13:30:30.925000+00:00  81.25   100\n",
      "    Ticker                        Timestamp  Price  Size\n",
      "156      T 2025-05-09 13:30:31.059000+00:00  27.47   200\n",
      "    Ticker                        Timestamp  Price  Size\n",
      "157      T 2025-05-09 13:30:31.059000+00:00  27.47   200\n",
      "    Ticker                        Timestamp  Price  Size\n",
      "158      T 2025-05-09 13:30:31.060000+00:00  27.47   158\n",
      "    Ticker                        Timestamp  Price  Size\n",
      "159      T 2025-05-09 13:30:31.065000+00:00  27.48   200\n",
      "    Ticker                        Timestamp  Price  Size\n",
      "160      T 2025-05-09 13:30:31.072000+00:00  27.48   100\n",
      "    Ticker                        Timestamp  Price  Size\n",
      "161      T 2025-05-09 13:30:31.072000+00:00  27.48   200\n",
      "    Ticker                        Timestamp  Price  Size\n",
      "162      T 2025-05-09 13:30:31.072000+00:00  27.48   200\n",
      "    Ticker                        Timestamp  Price  Size\n",
      "163      T 2025-05-09 13:30:31.072000+00:00  27.48   200\n",
      "    Ticker                        Timestamp  Price  Size\n",
      "164      T 2025-05-09 13:30:31.072000+00:00  27.48   100\n",
      "    Ticker                        Timestamp   Price  Size\n",
      "165   GOOG 2025-05-09 13:33:15.952000+00:00  155.53   250\n",
      "    Ticker                        Timestamp   Price  Size\n",
      "166   GOOG 2025-05-09 13:33:15.952000+00:00  155.53   200\n",
      "    Ticker                        Timestamp  Price  Size\n",
      "167      T 2025-05-09 13:30:31.167000+00:00  27.48   134\n",
      "    Ticker                        Timestamp   Price  Size\n",
      "168      T 2025-05-09 13:31:09.371000+00:00  27.455   400\n",
      "    Ticker                        Timestamp  Price  Size\n",
      "169   AMCR 2025-05-09 13:30:31.100000+00:00   9.16   200\n",
      "    Ticker                        Timestamp   Price  Size\n",
      "170  GOOGL 2025-05-09 13:30:31.106000+00:00  154.56   100\n",
      "    Ticker                        Timestamp   Price  Size\n",
      "171      T 2025-05-09 13:31:09.371000+00:00  27.455   400\n",
      "    Ticker                        Timestamp   Price  Size\n",
      "172  GOOGL 2025-05-09 13:30:31.189000+00:00  154.46   121\n",
      "    Ticker                        Timestamp   Price  Size\n",
      "173  GOOGL 2025-05-09 13:30:31.198000+00:00  154.46   100\n",
      "    Ticker                        Timestamp   Price  Size\n",
      "174   GOOG 2025-05-09 13:33:16.107000+00:00  155.54   100\n",
      "    Ticker                        Timestamp   Price  Size\n",
      "175    AMD 2025-05-09 13:31:09.574000+00:00  103.02   100\n"
     ]
    },
    {
     "name": "stderr",
     "output_type": "stream",
     "text": [
      "C:\\Users\\miklo\\AppData\\Local\\Temp\\ipykernel_7492\\3439354500.py:51: DeprecationWarning: datetime.datetime.utcnow() is deprecated and scheduled for removal in a future version. Use timezone-aware objects to represent datetimes in UTC: datetime.datetime.now(datetime.UTC).\n",
      "  while datetime.utcnow() < end_time:\n"
     ]
    },
    {
     "name": "stdout",
     "output_type": "stream",
     "text": [
      "    Ticker                        Timestamp   Price  Size\n",
      "176   GOOG 2025-05-09 13:30:31.293000+00:00  155.92   100\n",
      "    Ticker                        Timestamp   Price  Size\n",
      "177   GOOG 2025-05-09 13:30:31.293000+00:00  155.93   100\n",
      "    Ticker                        Timestamp   Price  Size\n",
      "178    AMD 2025-05-09 13:31:09.808000+00:00  103.03   151\n",
      "    Ticker                        Timestamp    Price  Size\n",
      "179    AMD 2025-05-09 13:31:09.848000+00:00  103.025   100\n"
     ]
    },
    {
     "name": "stderr",
     "output_type": "stream",
     "text": [
      "C:\\Users\\miklo\\AppData\\Local\\Temp\\ipykernel_7492\\3439354500.py:51: DeprecationWarning: datetime.datetime.utcnow() is deprecated and scheduled for removal in a future version. Use timezone-aware objects to represent datetimes in UTC: datetime.datetime.now(datetime.UTC).\n",
      "  while datetime.utcnow() < end_time:\n"
     ]
    },
    {
     "name": "stdout",
     "output_type": "stream",
     "text": [
      "    Ticker                        Timestamp    Price  Size\n",
      "180    AMD 2025-05-09 13:31:09.860000+00:00  103.015   100\n",
      "    Ticker                        Timestamp   Price  Size\n",
      "181    ADI 2025-05-09 13:31:09.928000+00:00  208.71   100\n",
      "    Ticker                        Timestamp  Price  Size\n",
      "182    ADI 2025-05-09 13:31:09.928000+00:00  208.7   100\n",
      "    Ticker                        Timestamp   Price  Size\n",
      "183    ADI 2025-05-09 13:31:09.928000+00:00  208.68   100\n"
     ]
    },
    {
     "name": "stderr",
     "output_type": "stream",
     "text": [
      "C:\\Users\\miklo\\AppData\\Local\\Temp\\ipykernel_7492\\3439354500.py:51: DeprecationWarning: datetime.datetime.utcnow() is deprecated and scheduled for removal in a future version. Use timezone-aware objects to represent datetimes in UTC: datetime.datetime.now(datetime.UTC).\n",
      "  while datetime.utcnow() < end_time:\n"
     ]
    },
    {
     "name": "stdout",
     "output_type": "stream",
     "text": [
      "    Ticker                        Timestamp  Price  Size\n",
      "184      T 2025-05-09 13:30:31.507000+00:00  27.47   200\n",
      "    Ticker                        Timestamp  Price  Size\n",
      "185      T 2025-05-09 13:30:31.507000+00:00  27.47   117\n",
      "    Ticker                        Timestamp  Price  Size\n",
      "186      T 2025-05-09 13:30:31.507000+00:00  27.48   100\n",
      "    Ticker                        Timestamp  Price  Size\n",
      "187      T 2025-05-09 13:30:31.531000+00:00  27.48   100\n",
      "    Ticker                        Timestamp  Price  Size\n",
      "188      T 2025-05-09 13:30:31.531000+00:00  27.48   100\n",
      "    Ticker                        Timestamp  Price  Size\n",
      "189      T 2025-05-09 13:30:31.531000+00:00  27.48   200\n",
      "    Ticker                        Timestamp  Price  Size\n",
      "190      T 2025-05-09 13:30:31.531000+00:00  27.48   160\n",
      "    Ticker                        Timestamp  Price  Size\n",
      "191      T 2025-05-09 13:30:31.531000+00:00  27.48   100\n",
      "    Ticker                        Timestamp  Price  Size\n",
      "192      T 2025-05-09 13:30:31.531000+00:00  27.48   100\n",
      "    Ticker                        Timestamp  Price  Size\n",
      "193      T 2025-05-09 13:30:31.571000+00:00  27.47   200\n",
      "    Ticker                        Timestamp  Price  Size\n",
      "194      T 2025-05-09 13:30:31.571000+00:00  27.47   100\n",
      "    Ticker                        Timestamp   Price  Size\n",
      "195      T 2025-05-09 13:30:31.573000+00:00  27.465   200\n",
      "    Ticker                        Timestamp  Price  Size\n",
      "196      T 2025-05-09 13:30:31.573000+00:00  27.47   161\n",
      "    Ticker                        Timestamp  Price  Size\n",
      "197      T 2025-05-09 13:30:31.574000+00:00  27.47   200\n",
      "    Ticker                        Timestamp  Price  Size\n",
      "198      T 2025-05-09 13:30:31.574000+00:00  27.47   139\n",
      "    Ticker                        Timestamp  Price  Size\n",
      "199      T 2025-05-09 13:30:31.574000+00:00  27.47   140\n",
      "    Ticker                        Timestamp   Price  Size\n",
      "200    AMD 2025-05-09 13:33:16.157000+00:00  103.33   100\n"
     ]
    },
    {
     "name": "stderr",
     "output_type": "stream",
     "text": [
      "C:\\Users\\miklo\\AppData\\Local\\Temp\\ipykernel_7492\\3439354500.py:51: DeprecationWarning: datetime.datetime.utcnow() is deprecated and scheduled for removal in a future version. Use timezone-aware objects to represent datetimes in UTC: datetime.datetime.now(datetime.UTC).\n",
      "  while datetime.utcnow() < end_time:\n"
     ]
    },
    {
     "name": "stdout",
     "output_type": "stream",
     "text": [
      "    Ticker                        Timestamp   Price  Size\n",
      "201    AMD 2025-05-09 13:33:16.171000+00:00  103.37   200\n",
      "    Ticker                        Timestamp   Price  Size\n",
      "202    AMD 2025-05-09 13:33:16.171000+00:00  103.37   200\n",
      "    Ticker                        Timestamp   Price  Size\n",
      "203    AMD 2025-05-09 13:33:16.171000+00:00  103.37   100\n"
     ]
    },
    {
     "name": "stderr",
     "output_type": "stream",
     "text": [
      "C:\\Users\\miklo\\AppData\\Local\\Temp\\ipykernel_7492\\3439354500.py:51: DeprecationWarning: datetime.datetime.utcnow() is deprecated and scheduled for removal in a future version. Use timezone-aware objects to represent datetimes in UTC: datetime.datetime.now(datetime.UTC).\n",
      "  while datetime.utcnow() < end_time:\n"
     ]
    },
    {
     "name": "stdout",
     "output_type": "stream",
     "text": [
      "    Ticker                        Timestamp   Price  Size\n",
      "204    AMD 2025-05-09 13:31:10.120000+00:00  102.98   100\n",
      "    Ticker                        Timestamp   Price  Size\n",
      "205  GOOGL 2025-05-09 13:31:36.700000+00:00  154.38   100\n",
      "    Ticker                        Timestamp   Price  Size\n",
      "206  GOOGL 2025-05-09 13:31:36.700000+00:00  154.38   100\n",
      "    Ticker                        Timestamp   Price  Size\n",
      "207   AAPL 2025-05-09 13:31:36.703000+00:00  199.87   100\n",
      "    Ticker                        Timestamp  Price  Size\n",
      "208   AKAM 2025-05-09 13:31:10.347000+00:00  80.91   100\n",
      "    Ticker                        Timestamp  Price  Size\n",
      "209   AKAM 2025-05-09 13:31:10.347000+00:00  80.91   100\n",
      "    Ticker                        Timestamp  Price  Size\n",
      "210   AKAM 2025-05-09 13:31:10.347000+00:00  80.91   100\n",
      "    Ticker                        Timestamp  Price  Size\n",
      "211   AKAM 2025-05-09 13:31:10.347000+00:00  80.95   100\n",
      "    Ticker                        Timestamp  Price  Size\n",
      "212      T 2025-05-09 13:33:16.367000+00:00   27.5   100\n",
      "    Ticker                        Timestamp  Price  Size\n",
      "213      T 2025-05-09 13:33:16.367000+00:00   27.5   100\n",
      "    Ticker                        Timestamp  Price  Size\n",
      "214      T 2025-05-09 13:33:16.367000+00:00   27.5   100\n"
     ]
    },
    {
     "name": "stderr",
     "output_type": "stream",
     "text": [
      "C:\\Users\\miklo\\AppData\\Local\\Temp\\ipykernel_7492\\3439354500.py:51: DeprecationWarning: datetime.datetime.utcnow() is deprecated and scheduled for removal in a future version. Use timezone-aware objects to represent datetimes in UTC: datetime.datetime.now(datetime.UTC).\n",
      "  while datetime.utcnow() < end_time:\n"
     ]
    },
    {
     "name": "stdout",
     "output_type": "stream",
     "text": [
      "    Ticker                        Timestamp  Price  Size\n",
      "215   GOOG 2025-05-09 13:31:10.510000+00:00  156.1   100\n",
      "    Ticker                        Timestamp   Price  Size\n",
      "216  GOOGL 2025-05-09 13:33:18.965000+00:00  154.16   100\n",
      "    Ticker                        Timestamp   Price  Size\n",
      "217   GOOG 2025-05-09 13:33:18.965000+00:00  155.57   100\n",
      "    Ticker                        Timestamp   Price  Size\n",
      "218   GOOG 2025-05-09 13:33:18.965000+00:00  155.57   100\n",
      "    Ticker                        Timestamp   Price  Size\n",
      "219  GOOGL 2025-05-09 13:33:18.965000+00:00  154.14   100\n",
      "    Ticker                        Timestamp   Price  Size\n",
      "220  GOOGL 2025-05-09 13:33:18.965000+00:00  154.13   100\n"
     ]
    },
    {
     "name": "stderr",
     "output_type": "stream",
     "text": [
      "C:\\Users\\miklo\\AppData\\Local\\Temp\\ipykernel_7492\\3439354500.py:51: DeprecationWarning: datetime.datetime.utcnow() is deprecated and scheduled for removal in a future version. Use timezone-aware objects to represent datetimes in UTC: datetime.datetime.now(datetime.UTC).\n",
      "  while datetime.utcnow() < end_time:\n"
     ]
    },
    {
     "name": "stdout",
     "output_type": "stream",
     "text": [
      "    Ticker                        Timestamp   Price  Size\n",
      "221  GOOGL 2025-05-09 13:33:18.965000+00:00  154.13   100\n"
     ]
    },
    {
     "name": "stderr",
     "output_type": "stream",
     "text": [
      "C:\\Users\\miklo\\AppData\\Local\\Temp\\ipykernel_7492\\3439354500.py:51: DeprecationWarning: datetime.datetime.utcnow() is deprecated and scheduled for removal in a future version. Use timezone-aware objects to represent datetimes in UTC: datetime.datetime.now(datetime.UTC).\n",
      "  while datetime.utcnow() < end_time:\n"
     ]
    },
    {
     "name": "stdout",
     "output_type": "stream",
     "text": [
      "    Ticker                        Timestamp   Price  Size\n",
      "222   AMZN 2025-05-09 13:33:19.226000+00:00  193.53   400\n",
      "    Ticker                        Timestamp   Price  Size\n",
      "223   AMZN 2025-05-09 13:33:19.226000+00:00  193.53   357\n",
      "    Ticker                        Timestamp   Price  Size\n",
      "224   AMZN 2025-05-09 13:33:19.226000+00:00  193.53   103\n",
      "    Ticker                        Timestamp   Price  Size\n",
      "225   AMZN 2025-05-09 13:33:19.228000+00:00  193.54   120\n",
      "    Ticker                        Timestamp   Price  Size\n",
      "226   AMZN 2025-05-09 13:33:19.228000+00:00  193.53   280\n",
      "    Ticker                        Timestamp   Price  Size\n",
      "227   AMZN 2025-05-09 13:33:19.228000+00:00  193.53   100\n",
      "    Ticker                        Timestamp   Price  Size\n",
      "228   AMZN 2025-05-09 13:33:19.228000+00:00  193.53   220\n",
      "    Ticker                        Timestamp   Price  Size\n",
      "229   AMZN 2025-05-09 13:33:19.229000+00:00  193.54   174\n",
      "    Ticker                        Timestamp   Price  Size\n",
      "230   AMZN 2025-05-09 13:33:19.229000+00:00  193.54   125\n",
      "    Ticker                        Timestamp   Price  Size\n",
      "231   AMZN 2025-05-09 13:33:19.229000+00:00  193.54   103\n",
      "    Ticker                        Timestamp   Price  Size\n",
      "232   AMZN 2025-05-09 13:33:19.229000+00:00  193.54   126\n",
      "    Ticker                        Timestamp  Price  Size\n",
      "233    AES 2025-05-09 13:31:37.255000+00:00   11.0   433\n",
      "    Ticker                        Timestamp  Price  Size\n",
      "234    AES 2025-05-09 13:31:37.255000+00:00   11.0   224\n",
      "    Ticker                        Timestamp   Price  Size\n",
      "235   AMZN 2025-05-09 13:33:16.777000+00:00  193.46   100\n",
      "    Ticker                        Timestamp   Price  Size\n",
      "236   AMZN 2025-05-09 13:33:16.777000+00:00  193.46   100\n"
     ]
    },
    {
     "name": "stderr",
     "output_type": "stream",
     "text": [
      "C:\\Users\\miklo\\AppData\\Local\\Temp\\ipykernel_7492\\3439354500.py:51: DeprecationWarning: datetime.datetime.utcnow() is deprecated and scheduled for removal in a future version. Use timezone-aware objects to represent datetimes in UTC: datetime.datetime.now(datetime.UTC).\n",
      "  while datetime.utcnow() < end_time:\n"
     ]
    },
    {
     "name": "stdout",
     "output_type": "stream",
     "text": [
      "    Ticker                        Timestamp   Price  Size\n",
      "237   AMZN 2025-05-09 13:31:37.488000+00:00  193.73   100\n",
      "    Ticker                        Timestamp   Price  Size\n",
      "238   AMZN 2025-05-09 13:31:37.488000+00:00  193.72   100\n"
     ]
    },
    {
     "name": "stderr",
     "output_type": "stream",
     "text": [
      "C:\\Users\\miklo\\AppData\\Local\\Temp\\ipykernel_7492\\3439354500.py:51: DeprecationWarning: datetime.datetime.utcnow() is deprecated and scheduled for removal in a future version. Use timezone-aware objects to represent datetimes in UTC: datetime.datetime.now(datetime.UTC).\n",
      "  while datetime.utcnow() < end_time:\n"
     ]
    },
    {
     "name": "stdout",
     "output_type": "stream",
     "text": [
      "    Ticker                        Timestamp   Price  Size\n",
      "239   GOOG 2025-05-09 13:31:37.501000+00:00  155.82   150\n",
      "    Ticker                        Timestamp   Price  Size\n",
      "240  GOOGL 2025-05-09 13:31:37.501000+00:00  154.36   100\n"
     ]
    },
    {
     "name": "stderr",
     "output_type": "stream",
     "text": [
      "C:\\Users\\miklo\\AppData\\Local\\Temp\\ipykernel_7492\\3439354500.py:51: DeprecationWarning: datetime.datetime.utcnow() is deprecated and scheduled for removal in a future version. Use timezone-aware objects to represent datetimes in UTC: datetime.datetime.now(datetime.UTC).\n",
      "  while datetime.utcnow() < end_time:\n"
     ]
    },
    {
     "name": "stdout",
     "output_type": "stream",
     "text": [
      "    Ticker                        Timestamp    Price  Size\n",
      "241   AMZN 2025-05-09 13:31:37.665000+00:00  193.715   100\n",
      "    Ticker                        Timestamp   Price  Size\n",
      "242   AAPL 2025-05-09 13:33:17.012000+00:00  200.29   200\n"
     ]
    },
    {
     "name": "stderr",
     "output_type": "stream",
     "text": [
      "C:\\Users\\miklo\\AppData\\Local\\Temp\\ipykernel_7492\\3439354500.py:51: DeprecationWarning: datetime.datetime.utcnow() is deprecated and scheduled for removal in a future version. Use timezone-aware objects to represent datetimes in UTC: datetime.datetime.now(datetime.UTC).\n",
      "  while datetime.utcnow() < end_time:\n",
      "C:\\Users\\miklo\\AppData\\Local\\Temp\\ipykernel_7492\\3439354500.py:31: DeprecationWarning: datetime.datetime.utcnow() is deprecated and scheduled for removal in a future version. Use timezone-aware objects to represent datetimes in UTC: datetime.datetime.now(datetime.UTC).\n",
      "  timestamp = datetime.utcnow().strftime(\"%Y%m%d_%H%M%S\")\n"
     ]
    },
    {
     "name": "stdout",
     "output_type": "stream",
     "text": [
      "💾 Salvato 243 righe in dati_stream/finnhub_stream_20250509_133358.csv\n",
      "    Ticker                        Timestamp   Price  Size\n",
      "243  GOOGL 2025-05-09 13:31:37.790000+00:00  154.35   100\n",
      "    Ticker                        Timestamp   Price  Size\n",
      "244  GOOGL 2025-05-09 13:31:37.790000+00:00  154.35   100\n",
      "    Ticker                        Timestamp   Price  Size\n",
      "245   AAPL 2025-05-09 13:33:17.074000+00:00  200.28   100\n",
      "    Ticker                        Timestamp   Price  Size\n",
      "246   AAPL 2025-05-09 13:33:17.075000+00:00  200.28   100\n",
      "    Ticker                        Timestamp   Price  Size\n",
      "247   AAPL 2025-05-09 13:31:37.818000+00:00  199.81   100\n",
      "    Ticker                        Timestamp   Price  Size\n",
      "248    AMD 2025-05-09 13:31:38.106000+00:00  103.06   100\n",
      "    Ticker                        Timestamp   Price  Size\n",
      "249    AMD 2025-05-09 13:33:17.213000+00:00  103.32   150\n",
      "    Ticker                        Timestamp   Price  Size\n",
      "250      T 2025-05-09 13:31:11.394000+00:00  27.455   600\n"
     ]
    },
    {
     "name": "stderr",
     "output_type": "stream",
     "text": [
      "C:\\Users\\miklo\\AppData\\Local\\Temp\\ipykernel_7492\\3439354500.py:51: DeprecationWarning: datetime.datetime.utcnow() is deprecated and scheduled for removal in a future version. Use timezone-aware objects to represent datetimes in UTC: datetime.datetime.now(datetime.UTC).\n",
      "  while datetime.utcnow() < end_time:\n"
     ]
    },
    {
     "name": "stdout",
     "output_type": "stream",
     "text": [
      "✅ Streaming finished.\n"
     ]
    },
    {
     "ename": "",
     "evalue": "",
     "output_type": "error",
     "traceback": [
      "\u001b[1;31mThe Kernel crashed while executing code in the current cell or a previous cell. \n",
      "\u001b[1;31mPlease review the code in the cell(s) to identify a possible cause of the failure. \n",
      "\u001b[1;31mClick <a href='https://aka.ms/vscodeJupyterKernelCrash'>here</a> for more info. \n",
      "\u001b[1;31mView Jupyter <a href='command:jupyter.viewOutput'>log</a> for further details."
     ]
    }
   ],
   "source": [
    "import pandas as pd\n",
    "import asyncio\n",
    "import websockets\n",
    "import json\n",
    "import os\n",
    "from datetime import datetime, timedelta\n",
    "import nest_asyncio\n",
    "\n",
    "nest_asyncio.apply()\n",
    "\n",
    "FINNHUB_API_KEY = \"d056jb9r01qoigrsmf5gd056jb9r01qoigrsmf60\"\n",
    "\n",
    "# S&P 500 tickers (limit to first 5 for demo)\n",
    "url = \"https://raw.githubusercontent.com/datasets/s-and-p-500-companies/master/data/constituents.csv\"\n",
    "tickers = pd.read_csv(url)['Symbol'].tolist()\n",
    "\n",
    "# WebSocket endpoint\n",
    "FINNHUB_WS_URL = f\"wss://ws.finnhub.io?token={FINNHUB_API_KEY}\"\n",
    "\n",
    "# In-memory storage\n",
    "df_all_data = pd.DataFrame()\n",
    "\n",
    "# Create directory\n",
    "os.makedirs(\"dati_stream\", exist_ok=True)\n",
    "\n",
    "async def save_data_periodically(interval_sec=60):\n",
    "    global df_all_data\n",
    "    while True:\n",
    "        await asyncio.sleep(interval_sec)\n",
    "        if not df_all_data.empty:\n",
    "            timestamp = datetime.utcnow().strftime(\"%Y%m%d_%H%M%S\")\n",
    "            path = f\"dati_stream/finnhub_stream_{timestamp}.csv\"\n",
    "            df_all_data.to_csv(path, index=False)\n",
    "            print(f\"💾 Salvato {len(df_all_data)} righe in {path}\")\n",
    "\n",
    "async def stream_finnhub(duration_seconds=60):\n",
    "    global df_all_data\n",
    "\n",
    "    async with websockets.connect(FINNHUB_WS_URL) as ws:\n",
    "        # Subscribe to tickers\n",
    "        for symbol in tickers:\n",
    "            await ws.send(json.dumps({\"type\": \"subscribe\", \"symbol\": symbol}))\n",
    "            print(f\"📡 Subscribed to {symbol}\")\n",
    "\n",
    "        # Start saving data\n",
    "        save_task = asyncio.create_task(save_data_periodically(30))\n",
    "\n",
    "        end_time = datetime.utcnow() + timedelta(seconds=duration_seconds)\n",
    "\n",
    "        try:\n",
    "            while datetime.utcnow() < end_time:\n",
    "                message = await ws.recv()\n",
    "                data = json.loads(message)\n",
    "\n",
    "                if data.get(\"type\") == \"trade\":\n",
    "                    for trade in data.get(\"data\", []):\n",
    "                        row = {\n",
    "                            \"Ticker\": trade[\"s\"],\n",
    "                            \"Timestamp\": pd.to_datetime(trade[\"t\"], unit=\"ms\", utc=True),\n",
    "                            \"Price\": trade[\"p\"],\n",
    "                            \"Size\": trade[\"v\"]\n",
    "                        }\n",
    "                        df_all_data = pd.concat([df_all_data, pd.DataFrame([row])], ignore_index=True)\n",
    "                        print(df_all_data.tail(1))\n",
    "        finally:\n",
    "            await ws.close()\n",
    "            save_task.cancel()\n",
    "            print(\"✅ Streaming finished.\")\n",
    "\n",
    "# Run the stream\n",
    "await stream_finnhub(duration_seconds=60)\n"
   ]
  }
 ],
 "metadata": {
  "kernelspec": {
   "display_name": "big-data-finance",
   "language": "python",
   "name": "python3"
  },
  "language_info": {
   "codemirror_mode": {
    "name": "ipython",
    "version": 3
   },
   "file_extension": ".py",
   "mimetype": "text/x-python",
   "name": "python",
   "nbconvert_exporter": "python",
   "pygments_lexer": "ipython3",
   "version": "3.12.6"
  }
 },
 "nbformat": 4,
 "nbformat_minor": 5
}
