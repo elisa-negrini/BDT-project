{
 "cells": [
  {
   "cell_type": "code",
   "execution_count": null,
   "id": "6edb8b27",
   "metadata": {},
   "outputs": [
    {
     "name": "stdout",
     "output_type": "stream",
     "text": [
      "📡 Subscribed to MMM\n",
      "📡 Subscribed to AOS\n",
      "📡 Subscribed to ABT\n",
      "📡 Subscribed to ABBV\n",
      "📡 Subscribed to ACN\n",
      "📡 Subscribed to ADBE\n",
      "📡 Subscribed to AMD\n",
      "📡 Subscribed to AES\n",
      "📡 Subscribed to AFL\n",
      "📡 Subscribed to A\n",
      "📡 Subscribed to APD\n",
      "📡 Subscribed to ABNB\n",
      "📡 Subscribed to AKAM\n",
      "📡 Subscribed to ALB\n",
      "📡 Subscribed to ARE\n",
      "📡 Subscribed to ALGN\n",
      "📡 Subscribed to ALLE\n",
      "📡 Subscribed to LNT\n",
      "📡 Subscribed to ALL\n",
      "📡 Subscribed to GOOGL\n",
      "📡 Subscribed to GOOG\n",
      "📡 Subscribed to MO\n",
      "📡 Subscribed to AMZN\n",
      "📡 Subscribed to AMCR\n",
      "📡 Subscribed to AEE\n",
      "📡 Subscribed to AEP\n",
      "📡 Subscribed to AXP\n",
      "📡 Subscribed to AIG\n",
      "📡 Subscribed to AMT\n",
      "📡 Subscribed to AWK\n",
      "📡 Subscribed to AMP\n",
      "📡 Subscribed to AME\n",
      "📡 Subscribed to AMGN\n",
      "📡 Subscribed to APH\n",
      "📡 Subscribed to ADI\n",
      "📡 Subscribed to ANSS\n",
      "📡 Subscribed to AON\n",
      "📡 Subscribed to APA\n",
      "📡 Subscribed to APO\n",
      "📡 Subscribed to AAPL\n",
      "📡 Subscribed to AMAT\n",
      "📡 Subscribed to APTV\n",
      "📡 Subscribed to ACGL\n",
      "📡 Subscribed to ADM\n",
      "📡 Subscribed to ANET\n",
      "📡 Subscribed to AJG\n",
      "📡 Subscribed to AIZ\n",
      "📡 Subscribed to T\n",
      "📡 Subscribed to ATO\n",
      "📡 Subscribed to ADSK\n",
      "📡 Subscribed to ADP\n",
      "📡 Subscribed to AZO\n",
      "📡 Subscribed to AVB\n",
      "📡 Subscribed to AVY\n",
      "📡 Subscribed to AXON\n",
      "📡 Subscribed to BKR\n",
      "📡 Subscribed to BALL\n",
      "📡 Subscribed to BAC\n",
      "📡 Subscribed to BAX\n",
      "📡 Subscribed to BDX\n",
      "📡 Subscribed to BRK.B\n",
      "📡 Subscribed to BBY\n",
      "📡 Subscribed to TECH\n",
      "📡 Subscribed to BIIB\n",
      "📡 Subscribed to BLK\n",
      "📡 Subscribed to BX\n",
      "📡 Subscribed to BK\n",
      "📡 Subscribed to BA\n",
      "📡 Subscribed to BKNG\n",
      "📡 Subscribed to BSX\n",
      "📡 Subscribed to BMY\n",
      "📡 Subscribed to AVGO\n",
      "📡 Subscribed to BR\n",
      "📡 Subscribed to BRO\n",
      "📡 Subscribed to BF.B\n",
      "📡 Subscribed to BLDR\n",
      "📡 Subscribed to BG\n",
      "📡 Subscribed to BXP\n",
      "📡 Subscribed to CHRW\n",
      "📡 Subscribed to CDNS\n",
      "📡 Subscribed to CZR\n",
      "📡 Subscribed to CPT\n",
      "📡 Subscribed to CPB\n",
      "📡 Subscribed to COF\n",
      "📡 Subscribed to CAH\n",
      "📡 Subscribed to KMX\n",
      "📡 Subscribed to CCL\n",
      "📡 Subscribed to CARR\n",
      "📡 Subscribed to CAT\n",
      "📡 Subscribed to CBOE\n",
      "📡 Subscribed to CBRE\n",
      "📡 Subscribed to CDW\n",
      "📡 Subscribed to COR\n",
      "📡 Subscribed to CNC\n",
      "📡 Subscribed to CNP\n",
      "📡 Subscribed to CF\n",
      "📡 Subscribed to CRL\n",
      "📡 Subscribed to SCHW\n",
      "📡 Subscribed to CHTR\n",
      "📡 Subscribed to CVX\n",
      "📡 Subscribed to CMG\n",
      "📡 Subscribed to CB\n",
      "📡 Subscribed to CHD\n",
      "📡 Subscribed to CI\n",
      "📡 Subscribed to CINF\n",
      "📡 Subscribed to CTAS\n",
      "📡 Subscribed to CSCO\n",
      "📡 Subscribed to C\n",
      "📡 Subscribed to CFG\n",
      "📡 Subscribed to CLX\n",
      "📡 Subscribed to CME\n",
      "📡 Subscribed to CMS\n",
      "📡 Subscribed to KO\n",
      "📡 Subscribed to CTSH\n",
      "📡 Subscribed to CL\n",
      "📡 Subscribed to CMCSA\n",
      "📡 Subscribed to CAG\n",
      "📡 Subscribed to COP\n",
      "📡 Subscribed to ED\n",
      "📡 Subscribed to STZ\n",
      "📡 Subscribed to CEG\n",
      "📡 Subscribed to COO\n",
      "📡 Subscribed to CPRT\n",
      "📡 Subscribed to GLW\n",
      "📡 Subscribed to CPAY\n",
      "📡 Subscribed to CTVA\n",
      "📡 Subscribed to CSGP\n",
      "📡 Subscribed to COST\n",
      "📡 Subscribed to CTRA\n",
      "📡 Subscribed to CRWD\n",
      "📡 Subscribed to CCI\n",
      "📡 Subscribed to CSX\n",
      "📡 Subscribed to CMI\n",
      "📡 Subscribed to CVS\n",
      "📡 Subscribed to DHR\n",
      "📡 Subscribed to DRI\n",
      "📡 Subscribed to DVA\n",
      "📡 Subscribed to DAY\n",
      "📡 Subscribed to DECK\n",
      "📡 Subscribed to DE\n",
      "📡 Subscribed to DELL\n",
      "📡 Subscribed to DAL\n",
      "📡 Subscribed to DVN\n",
      "📡 Subscribed to DXCM\n",
      "📡 Subscribed to FANG\n",
      "📡 Subscribed to DLR\n",
      "📡 Subscribed to DFS\n",
      "📡 Subscribed to DG\n",
      "📡 Subscribed to DLTR\n",
      "📡 Subscribed to D\n",
      "📡 Subscribed to DPZ\n",
      "📡 Subscribed to DASH\n",
      "📡 Subscribed to DOV\n",
      "📡 Subscribed to DOW\n",
      "📡 Subscribed to DHI\n",
      "📡 Subscribed to DTE\n",
      "📡 Subscribed to DUK\n",
      "📡 Subscribed to DD\n",
      "📡 Subscribed to EMN\n",
      "📡 Subscribed to ETN\n",
      "📡 Subscribed to EBAY\n",
      "📡 Subscribed to ECL\n",
      "📡 Subscribed to EIX\n",
      "📡 Subscribed to EW\n",
      "📡 Subscribed to EA\n",
      "📡 Subscribed to ELV\n",
      "📡 Subscribed to EMR\n",
      "📡 Subscribed to ENPH\n",
      "📡 Subscribed to ETR\n",
      "📡 Subscribed to EOG\n",
      "📡 Subscribed to EPAM\n",
      "📡 Subscribed to EQT\n",
      "📡 Subscribed to EFX\n",
      "📡 Subscribed to EQIX\n",
      "📡 Subscribed to EQR\n",
      "📡 Subscribed to ERIE\n",
      "📡 Subscribed to ESS\n",
      "📡 Subscribed to EL\n",
      "📡 Subscribed to EG\n",
      "📡 Subscribed to EVRG\n",
      "📡 Subscribed to ES\n",
      "📡 Subscribed to EXC\n",
      "📡 Subscribed to EXE\n",
      "📡 Subscribed to EXPE\n",
      "📡 Subscribed to EXPD\n",
      "📡 Subscribed to EXR\n",
      "📡 Subscribed to XOM\n",
      "📡 Subscribed to FFIV\n",
      "📡 Subscribed to FDS\n",
      "📡 Subscribed to FICO\n",
      "📡 Subscribed to FAST\n",
      "📡 Subscribed to FRT\n",
      "📡 Subscribed to FDX\n",
      "📡 Subscribed to FIS\n",
      "📡 Subscribed to FITB\n",
      "📡 Subscribed to FSLR\n",
      "📡 Subscribed to FE\n",
      "📡 Subscribed to FI\n",
      "📡 Subscribed to F\n",
      "📡 Subscribed to FTNT\n",
      "📡 Subscribed to FTV\n",
      "📡 Subscribed to FOXA\n",
      "📡 Subscribed to FOX\n",
      "📡 Subscribed to BEN\n",
      "📡 Subscribed to FCX\n",
      "📡 Subscribed to GRMN\n",
      "📡 Subscribed to IT\n",
      "📡 Subscribed to GE\n",
      "📡 Subscribed to GEHC\n",
      "📡 Subscribed to GEV\n",
      "📡 Subscribed to GEN\n",
      "📡 Subscribed to GNRC\n",
      "📡 Subscribed to GD\n",
      "📡 Subscribed to GIS\n",
      "📡 Subscribed to GM\n",
      "📡 Subscribed to GPC\n",
      "📡 Subscribed to GILD\n",
      "📡 Subscribed to GPN\n",
      "📡 Subscribed to GL\n",
      "📡 Subscribed to GDDY\n",
      "📡 Subscribed to GS\n",
      "📡 Subscribed to HAL\n",
      "📡 Subscribed to HIG\n",
      "📡 Subscribed to HAS\n",
      "📡 Subscribed to HCA\n",
      "📡 Subscribed to DOC\n",
      "📡 Subscribed to HSIC\n",
      "📡 Subscribed to HSY\n",
      "📡 Subscribed to HES\n",
      "📡 Subscribed to HPE\n",
      "📡 Subscribed to HLT\n",
      "📡 Subscribed to HOLX\n",
      "📡 Subscribed to HD\n",
      "📡 Subscribed to HON\n",
      "📡 Subscribed to HRL\n",
      "📡 Subscribed to HST\n",
      "📡 Subscribed to HWM\n",
      "📡 Subscribed to HPQ\n",
      "📡 Subscribed to HUBB\n",
      "📡 Subscribed to HUM\n",
      "📡 Subscribed to HBAN\n",
      "📡 Subscribed to HII\n",
      "📡 Subscribed to IBM\n",
      "📡 Subscribed to IEX\n",
      "📡 Subscribed to IDXX\n",
      "📡 Subscribed to ITW\n",
      "📡 Subscribed to INCY\n",
      "📡 Subscribed to IR\n",
      "📡 Subscribed to PODD\n",
      "📡 Subscribed to INTC\n",
      "📡 Subscribed to ICE\n",
      "📡 Subscribed to IFF\n",
      "📡 Subscribed to IP\n",
      "📡 Subscribed to IPG\n",
      "📡 Subscribed to INTU\n",
      "📡 Subscribed to ISRG\n",
      "📡 Subscribed to IVZ\n",
      "📡 Subscribed to INVH\n",
      "📡 Subscribed to IQV\n",
      "📡 Subscribed to IRM\n",
      "📡 Subscribed to JBHT\n",
      "📡 Subscribed to JBL\n",
      "📡 Subscribed to JKHY\n",
      "📡 Subscribed to J\n",
      "📡 Subscribed to JNJ\n",
      "📡 Subscribed to JCI\n",
      "📡 Subscribed to JPM\n",
      "📡 Subscribed to JNPR\n",
      "📡 Subscribed to K\n",
      "📡 Subscribed to KVUE\n",
      "📡 Subscribed to KDP\n",
      "📡 Subscribed to KEY\n",
      "📡 Subscribed to KEYS\n",
      "📡 Subscribed to KMB\n",
      "📡 Subscribed to KIM\n",
      "📡 Subscribed to KMI\n",
      "📡 Subscribed to KKR\n",
      "📡 Subscribed to KLAC\n",
      "📡 Subscribed to KHC\n",
      "📡 Subscribed to KR\n",
      "📡 Subscribed to LHX\n",
      "📡 Subscribed to LH\n",
      "📡 Subscribed to LRCX\n",
      "📡 Subscribed to LW\n",
      "📡 Subscribed to LVS\n",
      "📡 Subscribed to LDOS\n",
      "📡 Subscribed to LEN\n",
      "📡 Subscribed to LII\n",
      "📡 Subscribed to LLY\n",
      "📡 Subscribed to LIN\n",
      "📡 Subscribed to LYV\n",
      "📡 Subscribed to LKQ\n",
      "📡 Subscribed to LMT\n",
      "📡 Subscribed to L\n",
      "📡 Subscribed to LOW\n",
      "📡 Subscribed to LULU\n",
      "📡 Subscribed to LYB\n",
      "📡 Subscribed to MTB\n",
      "📡 Subscribed to MPC\n",
      "📡 Subscribed to MKTX\n",
      "📡 Subscribed to MAR\n",
      "📡 Subscribed to MMC\n",
      "📡 Subscribed to MLM\n",
      "📡 Subscribed to MAS\n",
      "📡 Subscribed to MA\n",
      "📡 Subscribed to MTCH\n",
      "📡 Subscribed to MKC\n",
      "📡 Subscribed to MCD\n",
      "📡 Subscribed to MCK\n",
      "📡 Subscribed to MDT\n",
      "📡 Subscribed to MRK\n",
      "📡 Subscribed to META\n",
      "📡 Subscribed to MET\n",
      "📡 Subscribed to MTD\n",
      "📡 Subscribed to MGM\n",
      "📡 Subscribed to MCHP\n",
      "📡 Subscribed to MU\n",
      "📡 Subscribed to MSFT\n",
      "📡 Subscribed to MAA\n",
      "📡 Subscribed to MRNA\n",
      "📡 Subscribed to MHK\n",
      "📡 Subscribed to MOH\n",
      "📡 Subscribed to TAP\n",
      "📡 Subscribed to MDLZ\n",
      "📡 Subscribed to MPWR\n",
      "📡 Subscribed to MNST\n",
      "📡 Subscribed to MCO\n",
      "📡 Subscribed to MS\n",
      "📡 Subscribed to MOS\n",
      "📡 Subscribed to MSI\n",
      "📡 Subscribed to MSCI\n",
      "📡 Subscribed to NDAQ\n",
      "📡 Subscribed to NTAP\n",
      "📡 Subscribed to NFLX\n",
      "📡 Subscribed to NEM\n",
      "📡 Subscribed to NWSA\n",
      "📡 Subscribed to NWS\n",
      "📡 Subscribed to NEE\n",
      "📡 Subscribed to NKE\n",
      "📡 Subscribed to NI\n",
      "📡 Subscribed to NDSN\n",
      "📡 Subscribed to NSC\n",
      "📡 Subscribed to NTRS\n",
      "📡 Subscribed to NOC\n",
      "📡 Subscribed to NCLH\n",
      "📡 Subscribed to NRG\n",
      "📡 Subscribed to NUE\n",
      "📡 Subscribed to NVDA\n",
      "📡 Subscribed to NVR\n",
      "📡 Subscribed to NXPI\n",
      "📡 Subscribed to ORLY\n",
      "📡 Subscribed to OXY\n",
      "📡 Subscribed to ODFL\n",
      "📡 Subscribed to OMC\n",
      "📡 Subscribed to ON\n",
      "📡 Subscribed to OKE\n",
      "📡 Subscribed to ORCL\n",
      "📡 Subscribed to OTIS\n",
      "📡 Subscribed to PCAR\n",
      "📡 Subscribed to PKG\n",
      "📡 Subscribed to PLTR\n",
      "📡 Subscribed to PANW\n",
      "📡 Subscribed to PARA\n",
      "📡 Subscribed to PH\n",
      "📡 Subscribed to PAYX\n",
      "📡 Subscribed to PAYC\n",
      "📡 Subscribed to PYPL\n",
      "📡 Subscribed to PNR\n",
      "📡 Subscribed to PEP\n",
      "📡 Subscribed to PFE\n",
      "📡 Subscribed to PCG\n",
      "📡 Subscribed to PM\n",
      "📡 Subscribed to PSX\n",
      "📡 Subscribed to PNW\n",
      "📡 Subscribed to PNC\n",
      "📡 Subscribed to POOL\n",
      "📡 Subscribed to PPG\n",
      "📡 Subscribed to PPL\n",
      "📡 Subscribed to PFG\n",
      "📡 Subscribed to PG\n",
      "📡 Subscribed to PGR\n",
      "📡 Subscribed to PLD\n",
      "📡 Subscribed to PRU\n",
      "📡 Subscribed to PEG\n",
      "📡 Subscribed to PTC\n",
      "📡 Subscribed to PSA\n",
      "📡 Subscribed to PHM\n",
      "📡 Subscribed to PWR\n",
      "📡 Subscribed to QCOM\n",
      "📡 Subscribed to DGX\n",
      "📡 Subscribed to RL\n",
      "📡 Subscribed to RJF\n",
      "📡 Subscribed to RTX\n",
      "📡 Subscribed to O\n",
      "📡 Subscribed to REG\n",
      "📡 Subscribed to REGN\n",
      "📡 Subscribed to RF\n",
      "📡 Subscribed to RSG\n",
      "📡 Subscribed to RMD\n",
      "📡 Subscribed to RVTY\n",
      "📡 Subscribed to ROK\n",
      "📡 Subscribed to ROL\n",
      "📡 Subscribed to ROP\n",
      "📡 Subscribed to ROST\n",
      "📡 Subscribed to RCL\n",
      "📡 Subscribed to SPGI\n",
      "📡 Subscribed to CRM\n",
      "📡 Subscribed to SBAC\n",
      "📡 Subscribed to SLB\n",
      "📡 Subscribed to STX\n",
      "📡 Subscribed to SRE\n",
      "📡 Subscribed to NOW\n",
      "📡 Subscribed to SHW\n",
      "📡 Subscribed to SPG\n",
      "📡 Subscribed to SWKS\n",
      "📡 Subscribed to SJM\n",
      "📡 Subscribed to SW\n",
      "📡 Subscribed to SNA\n",
      "📡 Subscribed to SOLV\n",
      "📡 Subscribed to SO\n",
      "📡 Subscribed to LUV\n",
      "📡 Subscribed to SWK\n",
      "📡 Subscribed to SBUX\n",
      "📡 Subscribed to STT\n",
      "📡 Subscribed to STLD\n",
      "📡 Subscribed to STE\n",
      "📡 Subscribed to SYK\n",
      "📡 Subscribed to SMCI\n",
      "📡 Subscribed to SYF\n",
      "📡 Subscribed to SNPS\n",
      "📡 Subscribed to SYY\n",
      "📡 Subscribed to TMUS\n",
      "📡 Subscribed to TROW\n",
      "📡 Subscribed to TTWO\n",
      "📡 Subscribed to TPR\n",
      "📡 Subscribed to TRGP\n",
      "📡 Subscribed to TGT\n",
      "📡 Subscribed to TEL\n",
      "📡 Subscribed to TDY\n",
      "📡 Subscribed to TER\n",
      "📡 Subscribed to TSLA\n",
      "📡 Subscribed to TXN\n",
      "📡 Subscribed to TPL\n",
      "📡 Subscribed to TXT\n",
      "📡 Subscribed to TMO\n",
      "📡 Subscribed to TJX\n",
      "📡 Subscribed to TKO\n",
      "📡 Subscribed to TSCO\n",
      "📡 Subscribed to TT\n",
      "📡 Subscribed to TDG\n",
      "📡 Subscribed to TRV\n",
      "📡 Subscribed to TRMB\n",
      "📡 Subscribed to TFC\n",
      "📡 Subscribed to TYL\n",
      "📡 Subscribed to TSN\n",
      "📡 Subscribed to USB\n",
      "📡 Subscribed to UBER\n",
      "📡 Subscribed to UDR\n",
      "📡 Subscribed to ULTA\n",
      "📡 Subscribed to UNP\n",
      "📡 Subscribed to UAL\n",
      "📡 Subscribed to UPS\n",
      "📡 Subscribed to URI\n",
      "📡 Subscribed to UNH\n",
      "📡 Subscribed to UHS\n",
      "📡 Subscribed to VLO\n",
      "📡 Subscribed to VTR\n",
      "📡 Subscribed to VLTO\n",
      "📡 Subscribed to VRSN\n",
      "📡 Subscribed to VRSK\n",
      "📡 Subscribed to VZ\n",
      "📡 Subscribed to VRTX\n",
      "📡 Subscribed to VTRS\n",
      "📡 Subscribed to VICI\n",
      "📡 Subscribed to V\n",
      "📡 Subscribed to VST\n",
      "📡 Subscribed to VMC\n",
      "📡 Subscribed to WRB\n",
      "📡 Subscribed to GWW\n",
      "📡 Subscribed to WAB\n",
      "📡 Subscribed to WBA\n",
      "📡 Subscribed to WMT\n",
      "📡 Subscribed to DIS\n",
      "📡 Subscribed to WBD\n",
      "📡 Subscribed to WM\n",
      "📡 Subscribed to WAT\n",
      "📡 Subscribed to WEC\n",
      "📡 Subscribed to WFC\n",
      "📡 Subscribed to WELL\n",
      "📡 Subscribed to WST\n",
      "📡 Subscribed to WDC\n",
      "📡 Subscribed to WY\n",
      "📡 Subscribed to WSM\n",
      "📡 Subscribed to WMB\n",
      "📡 Subscribed to WTW\n",
      "📡 Subscribed to WDAY\n",
      "📡 Subscribed to WYNN\n",
      "📡 Subscribed to XEL\n",
      "📡 Subscribed to XYL\n",
      "📡 Subscribed to YUM\n",
      "📡 Subscribed to ZBRA\n",
      "📡 Subscribed to ZBH\n",
      "📡 Subscribed to ZTS\n"
     ]
    },
    {
     "name": "stderr",
     "output_type": "stream",
     "text": [
      "/tmp/ipykernel_53921/3894763523.py:49: DeprecationWarning: datetime.datetime.utcnow() is deprecated and scheduled for removal in a future version. Use timezone-aware objects to represent datetimes in UTC: datetime.datetime.now(datetime.UTC).\n",
      "  end_time = datetime.utcnow() + timedelta(seconds=duration_seconds)\n",
      "/tmp/ipykernel_53921/3894763523.py:52: DeprecationWarning: datetime.datetime.utcnow() is deprecated and scheduled for removal in a future version. Use timezone-aware objects to represent datetimes in UTC: datetime.datetime.now(datetime.UTC).\n",
      "  while datetime.utcnow() < end_time:\n"
     ]
    },
    {
     "name": "stdout",
     "output_type": "stream",
     "text": [
      "  Ticker                        Timestamp   Price  Size\n",
      "0  GOOGL 2025-04-25 15:37:35.066000+00:00  162.06   100\n",
      "  Ticker                        Timestamp   Price  Size\n",
      "1  GOOGL 2025-04-25 15:37:34.744000+00:00  162.06   100\n"
     ]
    },
    {
     "name": "stderr",
     "output_type": "stream",
     "text": [
      "/tmp/ipykernel_53921/3894763523.py:52: DeprecationWarning: datetime.datetime.utcnow() is deprecated and scheduled for removal in a future version. Use timezone-aware objects to represent datetimes in UTC: datetime.datetime.now(datetime.UTC).\n",
      "  while datetime.utcnow() < end_time:\n"
     ]
    },
    {
     "name": "stdout",
     "output_type": "stream",
     "text": [
      "  Ticker                        Timestamp   Price  Size\n",
      "2   GOOG 2025-04-25 15:37:36.144000+00:00  164.14   117\n",
      "  Ticker                        Timestamp   Price  Size\n",
      "3   GOOG 2025-04-25 15:37:36.169000+00:00  164.14   200\n",
      "  Ticker                        Timestamp   Price  Size\n",
      "4   GOOG 2025-04-25 15:37:36.175000+00:00  164.13   100\n",
      "  Ticker                        Timestamp   Price  Size\n",
      "5   GOOG 2025-04-25 15:37:36.175000+00:00  164.13   100\n",
      "  Ticker                        Timestamp   Price  Size\n",
      "6  GOOGL 2025-04-25 15:37:37.001000+00:00  162.02   699\n"
     ]
    },
    {
     "name": "stderr",
     "output_type": "stream",
     "text": [
      "/tmp/ipykernel_53921/3894763523.py:52: DeprecationWarning: datetime.datetime.utcnow() is deprecated and scheduled for removal in a future version. Use timezone-aware objects to represent datetimes in UTC: datetime.datetime.now(datetime.UTC).\n",
      "  while datetime.utcnow() < end_time:\n"
     ]
    },
    {
     "name": "stdout",
     "output_type": "stream",
     "text": [
      "  Ticker                        Timestamp   Price  Size\n",
      "7   ABNB 2025-04-25 15:37:38.317000+00:00  121.61   100\n"
     ]
    },
    {
     "name": "stderr",
     "output_type": "stream",
     "text": [
      "/tmp/ipykernel_53921/3894763523.py:52: DeprecationWarning: datetime.datetime.utcnow() is deprecated and scheduled for removal in a future version. Use timezone-aware objects to represent datetimes in UTC: datetime.datetime.now(datetime.UTC).\n",
      "  while datetime.utcnow() < end_time:\n"
     ]
    },
    {
     "name": "stdout",
     "output_type": "stream",
     "text": [
      "  Ticker                        Timestamp  Price  Size\n",
      "8      T 2025-04-25 15:37:39.583000+00:00   26.7   246\n",
      "  Ticker                        Timestamp  Price  Size\n",
      "9      T 2025-04-25 15:37:39.583000+00:00   26.7   200\n",
      "   Ticker                        Timestamp  Price  Size\n",
      "10      T 2025-04-25 15:37:39.583000+00:00   26.7   200\n",
      "   Ticker                        Timestamp  Price  Size\n",
      "11      T 2025-04-25 15:37:39.583000+00:00   26.7   100\n",
      "   Ticker                        Timestamp    Price  Size\n",
      "12   AAPL 2025-04-25 15:37:39.452000+00:00  206.755   100\n",
      "   Ticker                        Timestamp   Price  Size\n",
      "13   AAPL 2025-04-25 15:37:39.452000+00:00  206.76   100\n"
     ]
    },
    {
     "name": "stderr",
     "output_type": "stream",
     "text": [
      "/tmp/ipykernel_53921/3894763523.py:52: DeprecationWarning: datetime.datetime.utcnow() is deprecated and scheduled for removal in a future version. Use timezone-aware objects to represent datetimes in UTC: datetime.datetime.now(datetime.UTC).\n",
      "  while datetime.utcnow() < end_time:\n"
     ]
    },
    {
     "name": "stdout",
     "output_type": "stream",
     "text": [
      "   Ticker                        Timestamp    Price  Size\n",
      "14  GOOGL 2025-04-25 15:37:40.659000+00:00  162.045   100\n",
      "   Ticker                        Timestamp    Price  Size\n",
      "15  GOOGL 2025-04-25 15:37:40.659000+00:00  162.045   100\n",
      "   Ticker                        Timestamp    Price  Size\n",
      "16  GOOGL 2025-04-25 15:37:40.660000+00:00  162.045   100\n"
     ]
    },
    {
     "name": "stderr",
     "output_type": "stream",
     "text": [
      "/tmp/ipykernel_53921/3894763523.py:52: DeprecationWarning: datetime.datetime.utcnow() is deprecated and scheduled for removal in a future version. Use timezone-aware objects to represent datetimes in UTC: datetime.datetime.now(datetime.UTC).\n",
      "  while datetime.utcnow() < end_time:\n"
     ]
    },
    {
     "name": "stdout",
     "output_type": "stream",
     "text": [
      "   Ticker                        Timestamp  Price  Size\n",
      "17   GOOG 2025-04-25 15:37:41.469000+00:00  164.2   100\n",
      "   Ticker                        Timestamp  Price  Size\n",
      "18  GOOGL 2025-04-25 15:37:41.482000+00:00  162.1   100\n",
      "   Ticker                        Timestamp   Price  Size\n",
      "19      T 2025-04-25 15:37:42.156000+00:00  26.705   100\n",
      "   Ticker                        Timestamp   Price  Size\n",
      "20   AMAT 2025-04-25 15:37:42.202000+00:00  149.71   100\n",
      "   Ticker                        Timestamp  Price  Size\n",
      "21   AMZN 2025-04-25 15:37:42.347000+00:00  186.6   100\n"
     ]
    },
    {
     "name": "stderr",
     "output_type": "stream",
     "text": [
      "/tmp/ipykernel_53921/3894763523.py:52: DeprecationWarning: datetime.datetime.utcnow() is deprecated and scheduled for removal in a future version. Use timezone-aware objects to represent datetimes in UTC: datetime.datetime.now(datetime.UTC).\n",
      "  while datetime.utcnow() < end_time:\n"
     ]
    },
    {
     "name": "stdout",
     "output_type": "stream",
     "text": [
      "   Ticker                        Timestamp   Price  Size\n",
      "22    AON 2025-04-25 15:37:43.487000+00:00  324.83   100\n",
      "   Ticker                        Timestamp   Price  Size\n",
      "23    AON 2025-04-25 15:37:43.518000+00:00  324.89   100\n",
      "   Ticker                        Timestamp  Price  Size\n",
      "24    AMD 2025-04-25 15:37:43.837000+00:00   95.1   100\n"
     ]
    },
    {
     "name": "stderr",
     "output_type": "stream",
     "text": [
      "/tmp/ipykernel_53921/3894763523.py:52: DeprecationWarning: datetime.datetime.utcnow() is deprecated and scheduled for removal in a future version. Use timezone-aware objects to represent datetimes in UTC: datetime.datetime.now(datetime.UTC).\n",
      "  while datetime.utcnow() < end_time:\n"
     ]
    },
    {
     "name": "stdout",
     "output_type": "stream",
     "text": [
      "   Ticker                        Timestamp   Price  Size\n",
      "25   AMZN 2025-04-25 15:37:44.621000+00:00  186.69   200\n"
     ]
    },
    {
     "name": "stderr",
     "output_type": "stream",
     "text": [
      "/tmp/ipykernel_53921/3894763523.py:52: DeprecationWarning: datetime.datetime.utcnow() is deprecated and scheduled for removal in a future version. Use timezone-aware objects to represent datetimes in UTC: datetime.datetime.now(datetime.UTC).\n",
      "  while datetime.utcnow() < end_time:\n"
     ]
    },
    {
     "name": "stdout",
     "output_type": "stream",
     "text": [
      "   Ticker                        Timestamp   Price  Size\n",
      "26   ABBV 2025-04-25 15:37:48.684000+00:00  183.33   100\n",
      "   Ticker                        Timestamp  Price  Size\n",
      "27    AMD 2025-04-25 15:37:48.977000+00:00  95.16   200\n",
      "   Ticker                        Timestamp  Price  Size\n",
      "28    AMD 2025-04-25 15:37:48.978000+00:00  95.16   100\n",
      "   Ticker                        Timestamp  Price  Size\n",
      "29    AMD 2025-04-25 15:37:49.407000+00:00  95.18   100\n",
      "   Ticker                        Timestamp   Price  Size\n",
      "30   AMAT 2025-04-25 15:37:49.412000+00:00  149.75   100\n"
     ]
    },
    {
     "name": "stderr",
     "output_type": "stream",
     "text": [
      "/tmp/ipykernel_53921/3894763523.py:52: DeprecationWarning: datetime.datetime.utcnow() is deprecated and scheduled for removal in a future version. Use timezone-aware objects to represent datetimes in UTC: datetime.datetime.now(datetime.UTC).\n",
      "  while datetime.utcnow() < end_time:\n"
     ]
    },
    {
     "name": "stdout",
     "output_type": "stream",
     "text": [
      "   Ticker                        Timestamp  Price  Size\n",
      "31    AMD 2025-04-25 15:37:49.852000+00:00  95.19   170\n",
      "   Ticker                        Timestamp  Price  Size\n",
      "32    AMD 2025-04-25 15:37:49.852000+00:00  95.19   128\n",
      "   Ticker                        Timestamp  Price  Size\n",
      "33    AMD 2025-04-25 15:37:49.852000+00:00  95.19   100\n",
      "   Ticker                        Timestamp   Price  Size\n",
      "34   GOOG 2025-04-25 15:37:49.901000+00:00  164.27   100\n",
      "   Ticker                        Timestamp  Price  Size\n",
      "35   AMCR 2025-04-25 15:37:49.984000+00:00   9.52   100\n",
      "   Ticker                        Timestamp   Price  Size\n",
      "36   ANET 2025-04-25 15:37:49.985000+00:00  77.185   100\n",
      "   Ticker                        Timestamp  Price  Size\n",
      "37   ANET 2025-04-25 15:37:49.987000+00:00  77.18   100\n",
      "   Ticker                        Timestamp  Price  Size\n",
      "38   ANET 2025-04-25 15:37:49.987000+00:00  77.18   100\n"
     ]
    },
    {
     "name": "stderr",
     "output_type": "stream",
     "text": [
      "/tmp/ipykernel_53921/3894763523.py:52: DeprecationWarning: datetime.datetime.utcnow() is deprecated and scheduled for removal in a future version. Use timezone-aware objects to represent datetimes in UTC: datetime.datetime.now(datetime.UTC).\n",
      "  while datetime.utcnow() < end_time:\n"
     ]
    },
    {
     "name": "stdout",
     "output_type": "stream",
     "text": [
      "   Ticker                        Timestamp   Price  Size\n",
      "39   ABBV 2025-04-25 15:37:52.363000+00:00  183.45   100\n"
     ]
    },
    {
     "name": "stderr",
     "output_type": "stream",
     "text": [
      "/tmp/ipykernel_53921/3894763523.py:52: DeprecationWarning: datetime.datetime.utcnow() is deprecated and scheduled for removal in a future version. Use timezone-aware objects to represent datetimes in UTC: datetime.datetime.now(datetime.UTC).\n",
      "  while datetime.utcnow() < end_time:\n"
     ]
    },
    {
     "name": "stdout",
     "output_type": "stream",
     "text": [
      "   Ticker                        Timestamp   Price  Size\n",
      "40      T 2025-04-25 15:37:54.684000+00:00  26.705   500\n",
      "   Ticker                        Timestamp   Price  Size\n",
      "41      T 2025-04-25 15:37:54.684000+00:00  26.705   100\n",
      "   Ticker                        Timestamp   Price  Size\n",
      "42      T 2025-04-25 15:37:54.684000+00:00  26.705   100\n",
      "   Ticker                        Timestamp   Price  Size\n",
      "43      T 2025-04-25 15:37:54.684000+00:00  26.705   100\n",
      "   Ticker                        Timestamp   Price  Size\n",
      "44  GOOGL 2025-04-25 15:37:55.004000+00:00  162.16   100\n",
      "   Ticker                        Timestamp   Price  Size\n",
      "45  GOOGL 2025-04-25 15:37:55.004000+00:00  162.16   100\n",
      "   Ticker                        Timestamp   Price  Size\n",
      "46  GOOGL 2025-04-25 15:37:55.004000+00:00  162.17   100\n",
      "   Ticker                        Timestamp   Price  Size\n",
      "47   AMZN 2025-04-25 15:37:55.266000+00:00  186.71   200\n"
     ]
    },
    {
     "name": "stderr",
     "output_type": "stream",
     "text": [
      "/tmp/ipykernel_53921/3894763523.py:52: DeprecationWarning: datetime.datetime.utcnow() is deprecated and scheduled for removal in a future version. Use timezone-aware objects to represent datetimes in UTC: datetime.datetime.now(datetime.UTC).\n",
      "  while datetime.utcnow() < end_time:\n"
     ]
    },
    {
     "name": "stdout",
     "output_type": "stream",
     "text": [
      "   Ticker                        Timestamp  Price  Size\n",
      "48      A 2025-04-25 15:37:56.368000+00:00  105.4   100\n"
     ]
    },
    {
     "name": "stderr",
     "output_type": "stream",
     "text": [
      "/tmp/ipykernel_53921/3894763523.py:52: DeprecationWarning: datetime.datetime.utcnow() is deprecated and scheduled for removal in a future version. Use timezone-aware objects to represent datetimes in UTC: datetime.datetime.now(datetime.UTC).\n",
      "  while datetime.utcnow() < end_time:\n"
     ]
    },
    {
     "name": "stdout",
     "output_type": "stream",
     "text": [
      "   Ticker                        Timestamp  Price  Size\n",
      "49    AMD 2025-04-25 15:37:56.450000+00:00   95.2   400\n",
      "   Ticker                        Timestamp   Price  Size\n",
      "50  GOOGL 2025-04-25 15:37:57.001000+00:00  162.16   100\n"
     ]
    },
    {
     "name": "stderr",
     "output_type": "stream",
     "text": [
      "/tmp/ipykernel_53921/3894763523.py:52: DeprecationWarning: datetime.datetime.utcnow() is deprecated and scheduled for removal in a future version. Use timezone-aware objects to represent datetimes in UTC: datetime.datetime.now(datetime.UTC).\n",
      "  while datetime.utcnow() < end_time:\n"
     ]
    },
    {
     "name": "stdout",
     "output_type": "stream",
     "text": [
      "   Ticker                        Timestamp  Price  Size\n",
      "51      T 2025-04-25 15:38:00.995000+00:00   26.7   100\n",
      "   Ticker                        Timestamp  Price  Size\n",
      "52      T 2025-04-25 15:38:00.996000+00:00   26.7   100\n",
      "   Ticker                        Timestamp  Price  Size\n",
      "53      T 2025-04-25 15:38:00.996000+00:00   26.7   100\n",
      "   Ticker                        Timestamp  Price  Size\n",
      "54      T 2025-04-25 15:38:00.996000+00:00   26.7   200\n",
      "   Ticker                        Timestamp  Price  Size\n",
      "55      T 2025-04-25 15:38:00.996000+00:00   26.7   100\n",
      "   Ticker                        Timestamp  Price  Size\n",
      "56      T 2025-04-25 15:38:00.996000+00:00   26.7   100\n"
     ]
    },
    {
     "name": "stderr",
     "output_type": "stream",
     "text": [
      "/tmp/ipykernel_53921/3894763523.py:52: DeprecationWarning: datetime.datetime.utcnow() is deprecated and scheduled for removal in a future version. Use timezone-aware objects to represent datetimes in UTC: datetime.datetime.now(datetime.UTC).\n",
      "  while datetime.utcnow() < end_time:\n"
     ]
    },
    {
     "name": "stdout",
     "output_type": "stream",
     "text": [
      "   Ticker                        Timestamp  Price  Size\n",
      "57    AMD 2025-04-25 15:38:01.472000+00:00   95.2   100\n"
     ]
    },
    {
     "name": "stderr",
     "output_type": "stream",
     "text": [
      "/tmp/ipykernel_53921/3894763523.py:52: DeprecationWarning: datetime.datetime.utcnow() is deprecated and scheduled for removal in a future version. Use timezone-aware objects to represent datetimes in UTC: datetime.datetime.now(datetime.UTC).\n",
      "  while datetime.utcnow() < end_time:\n"
     ]
    },
    {
     "name": "stdout",
     "output_type": "stream",
     "text": [
      "   Ticker                        Timestamp  Price  Size\n",
      "58    AMD 2025-04-25 15:38:02.579000+00:00  95.18   100\n",
      "   Ticker                        Timestamp   Price  Size\n",
      "59   AAPL 2025-04-25 15:38:02.593000+00:00  206.84   100\n"
     ]
    },
    {
     "name": "stderr",
     "output_type": "stream",
     "text": [
      "/tmp/ipykernel_53921/3894763523.py:52: DeprecationWarning: datetime.datetime.utcnow() is deprecated and scheduled for removal in a future version. Use timezone-aware objects to represent datetimes in UTC: datetime.datetime.now(datetime.UTC).\n",
      "  while datetime.utcnow() < end_time:\n",
      "/tmp/ipykernel_53921/3894763523.py:32: DeprecationWarning: datetime.datetime.utcnow() is deprecated and scheduled for removal in a future version. Use timezone-aware objects to represent datetimes in UTC: datetime.datetime.now(datetime.UTC).\n",
      "  timestamp = datetime.utcnow().strftime(\"%Y%m%d_%H%M%S\")\n"
     ]
    },
    {
     "name": "stdout",
     "output_type": "stream",
     "text": [
      "💾 Salvato 60 righe in dati_stream/finnhub_stream_20250425_153804.csv\n",
      "   Ticker                        Timestamp   Price  Size\n",
      "60   ABBV 2025-04-25 15:38:05.165000+00:00  183.47   100\n",
      "   Ticker                        Timestamp   Price  Size\n",
      "61   ABBV 2025-04-25 15:38:05.165000+00:00  183.48   100\n",
      "   Ticker                        Timestamp   Price  Size\n",
      "62  GOOGL 2025-04-25 15:38:05.634000+00:00  162.16   100\n",
      "   Ticker                        Timestamp   Price  Size\n",
      "63  GOOGL 2025-04-25 15:38:05.636000+00:00  162.19   100\n",
      "   Ticker                        Timestamp  Price  Size\n",
      "64    AES 2025-04-25 15:38:06.024000+00:00   9.93   200\n",
      "   Ticker                        Timestamp  Price  Size\n",
      "65    AES 2025-04-25 15:38:06.024000+00:00   9.93   144\n",
      "   Ticker                        Timestamp  Price  Size\n",
      "66    AES 2025-04-25 15:38:06.024000+00:00   9.93   200\n",
      "   Ticker                        Timestamp    Price  Size\n",
      "67    AMT 2025-04-25 15:38:06.179000+00:00  210.345   100\n"
     ]
    },
    {
     "name": "stderr",
     "output_type": "stream",
     "text": [
      "/tmp/ipykernel_53921/3894763523.py:52: DeprecationWarning: datetime.datetime.utcnow() is deprecated and scheduled for removal in a future version. Use timezone-aware objects to represent datetimes in UTC: datetime.datetime.now(datetime.UTC).\n",
      "  while datetime.utcnow() < end_time:\n"
     ]
    },
    {
     "name": "stdout",
     "output_type": "stream",
     "text": [
      "   Ticker                        Timestamp   Price  Size\n",
      "68   AAPL 2025-04-25 15:38:06.806000+00:00  206.92   100\n",
      "   Ticker                        Timestamp  Price  Size\n",
      "69    AES 2025-04-25 15:38:06.475000+00:00  9.925   500\n",
      "   Ticker                        Timestamp  Price  Size\n",
      "70    AES 2025-04-25 15:38:06.475000+00:00   9.93   223\n",
      "   Ticker                        Timestamp  Price  Size\n",
      "71    AIG 2025-04-25 15:38:07.353000+00:00  80.99   100\n",
      "   Ticker                        Timestamp  Price  Size\n",
      "72    AIG 2025-04-25 15:38:07.353000+00:00  80.99   100\n",
      "   Ticker                        Timestamp  Price  Size\n",
      "73    AMD 2025-04-25 15:38:07.183000+00:00  95.17   200\n",
      "   Ticker                        Timestamp  Price  Size\n",
      "74    AMD 2025-04-25 15:38:07.184000+00:00  95.17   100\n",
      "   Ticker                        Timestamp  Price  Size\n",
      "75    AMD 2025-04-25 15:38:07.196000+00:00  95.16   200\n"
     ]
    },
    {
     "name": "stderr",
     "output_type": "stream",
     "text": [
      "/tmp/ipykernel_53921/3894763523.py:52: DeprecationWarning: datetime.datetime.utcnow() is deprecated and scheduled for removal in a future version. Use timezone-aware objects to represent datetimes in UTC: datetime.datetime.now(datetime.UTC).\n",
      "  while datetime.utcnow() < end_time:\n"
     ]
    },
    {
     "name": "stdout",
     "output_type": "stream",
     "text": [
      "   Ticker                        Timestamp  Price  Size\n",
      "76    AMD 2025-04-25 15:38:08.797000+00:00  95.16   100\n"
     ]
    },
    {
     "name": "stderr",
     "output_type": "stream",
     "text": [
      "/tmp/ipykernel_53921/3894763523.py:52: DeprecationWarning: datetime.datetime.utcnow() is deprecated and scheduled for removal in a future version. Use timezone-aware objects to represent datetimes in UTC: datetime.datetime.now(datetime.UTC).\n",
      "  while datetime.utcnow() < end_time:\n"
     ]
    },
    {
     "name": "stdout",
     "output_type": "stream",
     "text": [
      "   Ticker                        Timestamp   Price  Size\n",
      "77   AMZN 2025-04-25 15:38:10.879000+00:00  186.64   139\n",
      "   Ticker                        Timestamp   Price  Size\n",
      "78   AAPL 2025-04-25 15:38:10.959000+00:00  206.83   100\n"
     ]
    },
    {
     "name": "stderr",
     "output_type": "stream",
     "text": [
      "/tmp/ipykernel_53921/3894763523.py:52: DeprecationWarning: datetime.datetime.utcnow() is deprecated and scheduled for removal in a future version. Use timezone-aware objects to represent datetimes in UTC: datetime.datetime.now(datetime.UTC).\n",
      "  while datetime.utcnow() < end_time:\n"
     ]
    },
    {
     "name": "stdout",
     "output_type": "stream",
     "text": [
      "   Ticker                        Timestamp   Price  Size\n",
      "79  GOOGL 2025-04-25 15:38:11.923000+00:00  162.13   100\n"
     ]
    },
    {
     "name": "stderr",
     "output_type": "stream",
     "text": [
      "/tmp/ipykernel_53921/3894763523.py:52: DeprecationWarning: datetime.datetime.utcnow() is deprecated and scheduled for removal in a future version. Use timezone-aware objects to represent datetimes in UTC: datetime.datetime.now(datetime.UTC).\n",
      "  while datetime.utcnow() < end_time:\n"
     ]
    },
    {
     "name": "stdout",
     "output_type": "stream",
     "text": [
      "   Ticker                        Timestamp   Price  Size\n",
      "80  GOOGL 2025-04-25 15:38:14.715000+00:00  162.15   100\n",
      "   Ticker                        Timestamp   Price  Size\n",
      "81    ACN 2025-04-25 15:38:14.716000+00:00  290.79   100\n",
      "   Ticker                        Timestamp  Price  Size\n",
      "82   AAPL 2025-04-25 15:38:14.724000+00:00  206.8   100\n",
      "   Ticker                        Timestamp   Price  Size\n",
      "83  GOOGL 2025-04-25 15:38:14.719000+00:00  162.14   328\n",
      "   Ticker                        Timestamp   Price  Size\n",
      "84  GOOGL 2025-04-25 15:38:14.719000+00:00  162.14   600\n",
      "   Ticker                        Timestamp   Price  Size\n",
      "85  GOOGL 2025-04-25 15:38:14.719000+00:00  162.14   572\n",
      "   Ticker                        Timestamp   Price  Size\n",
      "86  GOOGL 2025-04-25 15:38:14.724000+00:00  162.13   100\n",
      "   Ticker                        Timestamp   Price  Size\n",
      "87  GOOGL 2025-04-25 15:38:15.573000+00:00  162.11   100\n",
      "   Ticker                        Timestamp   Price  Size\n",
      "88    AON 2025-04-25 15:38:15.571000+00:00  325.12   100\n",
      "   Ticker                        Timestamp   Price  Size\n",
      "89   AMZN 2025-04-25 15:38:15.572000+00:00  186.58   200\n"
     ]
    },
    {
     "name": "stderr",
     "output_type": "stream",
     "text": [
      "/tmp/ipykernel_53921/3894763523.py:52: DeprecationWarning: datetime.datetime.utcnow() is deprecated and scheduled for removal in a future version. Use timezone-aware objects to represent datetimes in UTC: datetime.datetime.now(datetime.UTC).\n",
      "  while datetime.utcnow() < end_time:\n"
     ]
    },
    {
     "name": "stdout",
     "output_type": "stream",
     "text": [
      "   Ticker                        Timestamp   Price  Size\n",
      "90   AMZN 2025-04-25 15:38:16.201000+00:00  186.58   100\n",
      "   Ticker                        Timestamp   Price  Size\n",
      "91   AMZN 2025-04-25 15:38:16.201000+00:00  186.58   200\n",
      "   Ticker                        Timestamp    Price  Size\n",
      "92  GOOGL 2025-04-25 15:38:16.202000+00:00  162.105   200\n",
      "   Ticker                        Timestamp   Price  Size\n",
      "93  GOOGL 2025-04-25 15:38:16.202000+00:00  162.11   176\n",
      "   Ticker                        Timestamp  Price  Size\n",
      "94  GOOGL 2025-04-25 15:38:16.202000+00:00  162.1   100\n",
      "   Ticker                        Timestamp   Price  Size\n",
      "95    ABT 2025-04-25 15:38:16.215000+00:00  128.12   100\n",
      "   Ticker                        Timestamp   Price  Size\n",
      "96    ABT 2025-04-25 15:38:16.215000+00:00  128.12   100\n",
      "   Ticker                        Timestamp   Price  Size\n",
      "97    ABT 2025-04-25 15:38:16.215000+00:00  128.12   100\n"
     ]
    },
    {
     "name": "stderr",
     "output_type": "stream",
     "text": [
      "/tmp/ipykernel_53921/3894763523.py:52: DeprecationWarning: datetime.datetime.utcnow() is deprecated and scheduled for removal in a future version. Use timezone-aware objects to represent datetimes in UTC: datetime.datetime.now(datetime.UTC).\n",
      "  while datetime.utcnow() < end_time:\n"
     ]
    },
    {
     "name": "stdout",
     "output_type": "stream",
     "text": [
      "   Ticker                        Timestamp   Price  Size\n",
      "98  GOOGL 2025-04-25 15:38:16.467000+00:00  162.11   100\n",
      "   Ticker                        Timestamp  Price  Size\n",
      "99    ALB 2025-04-25 15:38:17.114000+00:00  56.97   100\n",
      "    Ticker                        Timestamp  Price  Size\n",
      "100  GOOGL 2025-04-25 15:38:17.527000+00:00  162.1   100\n",
      "    Ticker                        Timestamp  Price  Size\n",
      "101    AMD 2025-04-25 15:38:17.529000+00:00  95.09   100\n",
      "    Ticker                        Timestamp   Price  Size\n",
      "102    APO 2025-04-25 15:38:17.529000+00:00  132.91   100\n"
     ]
    },
    {
     "name": "stderr",
     "output_type": "stream",
     "text": [
      "/tmp/ipykernel_53921/3894763523.py:52: DeprecationWarning: datetime.datetime.utcnow() is deprecated and scheduled for removal in a future version. Use timezone-aware objects to represent datetimes in UTC: datetime.datetime.now(datetime.UTC).\n",
      "  while datetime.utcnow() < end_time:\n"
     ]
    },
    {
     "name": "stdout",
     "output_type": "stream",
     "text": [
      "    Ticker                        Timestamp   Price  Size\n",
      "103    ACN 2025-04-25 15:38:18.250000+00:00  290.78   100\n"
     ]
    },
    {
     "name": "stderr",
     "output_type": "stream",
     "text": [
      "/tmp/ipykernel_53921/3894763523.py:52: DeprecationWarning: datetime.datetime.utcnow() is deprecated and scheduled for removal in a future version. Use timezone-aware objects to represent datetimes in UTC: datetime.datetime.now(datetime.UTC).\n",
      "  while datetime.utcnow() < end_time:\n"
     ]
    },
    {
     "name": "stdout",
     "output_type": "stream",
     "text": [
      "    Ticker                        Timestamp  Price  Size\n",
      "104     MO 2025-04-25 15:38:21.870000+00:00  58.15   100\n"
     ]
    },
    {
     "name": "stderr",
     "output_type": "stream",
     "text": [
      "/tmp/ipykernel_53921/3894763523.py:52: DeprecationWarning: datetime.datetime.utcnow() is deprecated and scheduled for removal in a future version. Use timezone-aware objects to represent datetimes in UTC: datetime.datetime.now(datetime.UTC).\n",
      "  while datetime.utcnow() < end_time:\n"
     ]
    },
    {
     "name": "stdout",
     "output_type": "stream",
     "text": [
      "    Ticker                        Timestamp   Price  Size\n",
      "105   AAPL 2025-04-25 15:38:23.982000+00:00  206.78   100\n"
     ]
    },
    {
     "name": "stderr",
     "output_type": "stream",
     "text": [
      "/tmp/ipykernel_53921/3894763523.py:52: DeprecationWarning: datetime.datetime.utcnow() is deprecated and scheduled for removal in a future version. Use timezone-aware objects to represent datetimes in UTC: datetime.datetime.now(datetime.UTC).\n",
      "  while datetime.utcnow() < end_time:\n"
     ]
    },
    {
     "name": "stdout",
     "output_type": "stream",
     "text": [
      "    Ticker                        Timestamp   Price  Size\n",
      "106   AAPL 2025-04-25 15:38:24.998000+00:00  206.77   100\n"
     ]
    },
    {
     "name": "stderr",
     "output_type": "stream",
     "text": [
      "/tmp/ipykernel_53921/3894763523.py:52: DeprecationWarning: datetime.datetime.utcnow() is deprecated and scheduled for removal in a future version. Use timezone-aware objects to represent datetimes in UTC: datetime.datetime.now(datetime.UTC).\n",
      "  while datetime.utcnow() < end_time:\n"
     ]
    },
    {
     "name": "stdout",
     "output_type": "stream",
     "text": [
      "    Ticker                        Timestamp   Price  Size\n",
      "107   AMZN 2025-04-25 15:38:25.885000+00:00  186.54   100\n"
     ]
    },
    {
     "name": "stderr",
     "output_type": "stream",
     "text": [
      "/tmp/ipykernel_53921/3894763523.py:52: DeprecationWarning: datetime.datetime.utcnow() is deprecated and scheduled for removal in a future version. Use timezone-aware objects to represent datetimes in UTC: datetime.datetime.now(datetime.UTC).\n",
      "  while datetime.utcnow() < end_time:\n"
     ]
    },
    {
     "name": "stdout",
     "output_type": "stream",
     "text": [
      "    Ticker                        Timestamp    Price  Size\n",
      "108   AAPL 2025-04-25 15:38:27.194000+00:00  206.735   100\n",
      "    Ticker                        Timestamp   Price  Size\n",
      "109   AAPL 2025-04-25 15:38:27.264000+00:00  206.72   100\n"
     ]
    },
    {
     "name": "stderr",
     "output_type": "stream",
     "text": [
      "/tmp/ipykernel_53921/3894763523.py:52: DeprecationWarning: datetime.datetime.utcnow() is deprecated and scheduled for removal in a future version. Use timezone-aware objects to represent datetimes in UTC: datetime.datetime.now(datetime.UTC).\n",
      "  while datetime.utcnow() < end_time:\n"
     ]
    },
    {
     "name": "stdout",
     "output_type": "stream",
     "text": [
      "    Ticker                        Timestamp  Price  Size\n",
      "110   AMZN 2025-04-25 15:38:28.853000+00:00  186.5   110\n",
      "    Ticker                        Timestamp  Price  Size\n",
      "111   AMZN 2025-04-25 15:38:28.853000+00:00  186.5   890\n",
      "    Ticker                        Timestamp  Price  Size\n",
      "112    AMD 2025-04-25 15:38:29.061000+00:00  95.03   155\n",
      "    Ticker                        Timestamp  Price  Size\n",
      "113  GOOGL 2025-04-25 15:38:28.987000+00:00  162.0   104\n",
      "    Ticker                        Timestamp  Price  Size\n",
      "114  GOOGL 2025-04-25 15:38:28.987000+00:00  162.0   200\n",
      "    Ticker                        Timestamp   Price  Size\n",
      "115    APH 2025-04-25 15:38:29.127000+00:00  75.735   100\n",
      "    Ticker                        Timestamp  Price  Size\n",
      "116    AMD 2025-04-25 15:38:29.687000+00:00  95.03   155\n"
     ]
    },
    {
     "name": "stderr",
     "output_type": "stream",
     "text": [
      "/tmp/ipykernel_53921/3894763523.py:52: DeprecationWarning: datetime.datetime.utcnow() is deprecated and scheduled for removal in a future version. Use timezone-aware objects to represent datetimes in UTC: datetime.datetime.now(datetime.UTC).\n",
      "  while datetime.utcnow() < end_time:\n"
     ]
    },
    {
     "name": "stdout",
     "output_type": "stream",
     "text": [
      "    Ticker                        Timestamp   Price  Size\n",
      "117   ABBV 2025-04-25 15:38:29.775000+00:00  183.43   100\n",
      "    Ticker                        Timestamp   Price  Size\n",
      "118   AMZN 2025-04-25 15:38:29.801000+00:00  186.49   200\n",
      "    Ticker                        Timestamp   Price  Size\n",
      "119   AMZN 2025-04-25 15:38:29.811000+00:00  186.49   100\n",
      "    Ticker                        Timestamp   Price  Size\n",
      "120   AMZN 2025-04-25 15:38:29.812000+00:00  186.49   100\n",
      "    Ticker                        Timestamp   Price  Size\n",
      "121   AMZN 2025-04-25 15:38:29.823000+00:00  186.49   100\n",
      "    Ticker                        Timestamp  Price  Size\n",
      "122   AMAT 2025-04-25 15:38:29.824000+00:00  149.5   100\n",
      "    Ticker                        Timestamp   Price  Size\n",
      "123   AMZN 2025-04-25 15:38:29.824000+00:00  186.49   148\n"
     ]
    },
    {
     "name": "stderr",
     "output_type": "stream",
     "text": [
      "/tmp/ipykernel_53921/3894763523.py:52: DeprecationWarning: datetime.datetime.utcnow() is deprecated and scheduled for removal in a future version. Use timezone-aware objects to represent datetimes in UTC: datetime.datetime.now(datetime.UTC).\n",
      "  while datetime.utcnow() < end_time:\n"
     ]
    },
    {
     "name": "stdout",
     "output_type": "stream",
     "text": [
      "    Ticker                        Timestamp   Price  Size\n",
      "124  GOOGL 2025-04-25 15:38:30.332000+00:00  161.96   100\n",
      "    Ticker                        Timestamp   Price  Size\n",
      "125  GOOGL 2025-04-25 15:38:30.538000+00:00  161.94   100\n",
      "    Ticker                        Timestamp   Price  Size\n",
      "126  GOOGL 2025-04-25 15:38:30.538000+00:00  161.94   100\n",
      "    Ticker                        Timestamp   Price  Size\n",
      "127  GOOGL 2025-04-25 15:38:30.538000+00:00  161.93   100\n",
      "    Ticker                        Timestamp   Price  Size\n",
      "128  GOOGL 2025-04-25 15:38:30.538000+00:00  161.94   100\n",
      "    Ticker                        Timestamp   Price  Size\n",
      "129    ACN 2025-04-25 15:38:31.377000+00:00  290.77   100\n"
     ]
    },
    {
     "name": "stderr",
     "output_type": "stream",
     "text": [
      "/tmp/ipykernel_53921/3894763523.py:52: DeprecationWarning: datetime.datetime.utcnow() is deprecated and scheduled for removal in a future version. Use timezone-aware objects to represent datetimes in UTC: datetime.datetime.now(datetime.UTC).\n",
      "  while datetime.utcnow() < end_time:\n"
     ]
    },
    {
     "name": "stdout",
     "output_type": "stream",
     "text": [
      "    Ticker                        Timestamp  Price  Size\n",
      "130  GOOGL 2025-04-25 15:38:32.092000+00:00  161.9   488\n",
      "    Ticker                        Timestamp   Price  Size\n",
      "131  GOOGL 2025-04-25 15:38:32.092000+00:00  161.89   292\n",
      "    Ticker                        Timestamp   Price  Size\n",
      "132  GOOGL 2025-04-25 15:38:32.093000+00:00  161.89   106\n",
      "    Ticker                        Timestamp   Price  Size\n",
      "133  GOOGL 2025-04-25 15:38:32.093000+00:00  161.89   100\n"
     ]
    },
    {
     "name": "stderr",
     "output_type": "stream",
     "text": [
      "/tmp/ipykernel_53921/3894763523.py:52: DeprecationWarning: datetime.datetime.utcnow() is deprecated and scheduled for removal in a future version. Use timezone-aware objects to represent datetimes in UTC: datetime.datetime.now(datetime.UTC).\n",
      "  while datetime.utcnow() < end_time:\n"
     ]
    },
    {
     "name": "stdout",
     "output_type": "stream",
     "text": [
      "    Ticker                        Timestamp   Price  Size\n",
      "134  GOOGL 2025-04-25 15:38:32.867000+00:00  161.91   100\n",
      "    Ticker                        Timestamp  Price  Size\n",
      "135      T 2025-04-25 15:38:33.247000+00:00  26.69   100\n",
      "    Ticker                        Timestamp  Price  Size\n",
      "136      T 2025-04-25 15:38:33.248000+00:00  26.69   500\n",
      "    Ticker                        Timestamp  Price  Size\n",
      "137      T 2025-04-25 15:38:33.248000+00:00  26.69   100\n",
      "    Ticker                        Timestamp  Price  Size\n",
      "138      T 2025-04-25 15:38:33.248000+00:00  26.69   100\n"
     ]
    },
    {
     "name": "stderr",
     "output_type": "stream",
     "text": [
      "/tmp/ipykernel_53921/3894763523.py:52: DeprecationWarning: datetime.datetime.utcnow() is deprecated and scheduled for removal in a future version. Use timezone-aware objects to represent datetimes in UTC: datetime.datetime.now(datetime.UTC).\n",
      "  while datetime.utcnow() < end_time:\n",
      "/tmp/ipykernel_53921/3894763523.py:32: DeprecationWarning: datetime.datetime.utcnow() is deprecated and scheduled for removal in a future version. Use timezone-aware objects to represent datetimes in UTC: datetime.datetime.now(datetime.UTC).\n",
      "  timestamp = datetime.utcnow().strftime(\"%Y%m%d_%H%M%S\")\n"
     ]
    },
    {
     "name": "stdout",
     "output_type": "stream",
     "text": [
      "💾 Salvato 139 righe in dati_stream/finnhub_stream_20250425_153834.csv\n",
      "    Ticker                        Timestamp  Price  Size\n",
      "139   AMCR 2025-04-25 15:38:34.367000+00:00  9.515   100\n",
      "✅ Streaming finished.\n"
     ]
    },
    {
     "name": "stderr",
     "output_type": "stream",
     "text": [
      "/tmp/ipykernel_53921/3894763523.py:52: DeprecationWarning: datetime.datetime.utcnow() is deprecated and scheduled for removal in a future version. Use timezone-aware objects to represent datetimes in UTC: datetime.datetime.now(datetime.UTC).\n",
      "  while datetime.utcnow() < end_time:\n"
     ]
    }
   ],
   "source": [
    "import pandas as pd\n",
    "import asyncio\n",
    "import websockets\n",
    "import json\n",
    "import os\n",
    "from datetime import datetime, timedelta\n",
    "import nest_asyncio\n",
    "\n",
    "nest_asyncio.apply()\n",
    "\n",
    "FINNHUB_API_KEY = \"d056jb9r01qoigrsmf5gd056jb9r01qoigrsmf60\"\n",
    "\n",
    "# S&P 500 tickers (limit to first 5 for demo)\n",
    "url = \"https://raw.githubusercontent.com/datasets/s-and-p-500-companies/master/data/constituents.csv\"\n",
    "tickers = pd.read_csv(url)['Symbol'].tolist()\n",
    "\n",
    "# WebSocket endpoint\n",
    "FINNHUB_WS_URL = f\"wss://ws.finnhub.io?token={FINNHUB_API_KEY}\"\n",
    "\n",
    "# In-memory storage\n",
    "df_all_data = pd.DataFrame()\n",
    "\n",
    "# Create directory\n",
    "os.makedirs(\"dati_stream\", exist_ok=True)\n",
    "\n",
    "async def save_data_periodically(interval_sec=60):\n",
    "    global df_all_data\n",
    "    while True:\n",
    "        await asyncio.sleep(interval_sec)\n",
    "        if not df_all_data.empty:\n",
    "            timestamp = datetime.utcnow().strftime(\"%Y%m%d_%H%M%S\")\n",
    "            path = f\"dati_stream/finnhub_stream_{timestamp}.csv\"\n",
    "            df_all_data.to_csv(path, index=False)\n",
    "            print(f\"💾 Salvato {len(df_all_data)} righe in {path}\")\n",
    "\n",
    "async def stream_finnhub(duration_seconds=60):\n",
    "    global df_all_data\n",
    "\n",
    "    async with websockets.connect(FINNHUB_WS_URL) as ws:\n",
    "        # Subscribe to tickers\n",
    "        for symbol in tickers:\n",
    "            await ws.send(json.dumps({\"type\": \"subscribe\", \"symbol\": symbol}))\n",
    "            print(f\"📡 Subscribed to {symbol}\")\n",
    "\n",
    "        # Start saving data\n",
    "        save_task = asyncio.create_task(save_data_periodically(30))\n",
    "\n",
    "        end_time = datetime.utcnow() + timedelta(seconds=duration_seconds)\n",
    "\n",
    "        try:\n",
    "            while datetime.utcnow() < end_time:\n",
    "                message = await ws.recv()\n",
    "                data = json.loads(message)\n",
    "\n",
    "                if data.get(\"type\") == \"trade\":\n",
    "                    for trade in data.get(\"data\", []):\n",
    "                        row = {\n",
    "                            \"Ticker\": trade[\"s\"],\n",
    "                            \"Timestamp\": pd.to_datetime(trade[\"t\"], unit=\"ms\", utc=True),\n",
    "                            \"Price\": trade[\"p\"],\n",
    "                            \"Size\": trade[\"v\"]\n",
    "                        }\n",
    "                        df_all_data = pd.concat([df_all_data, pd.DataFrame([row])], ignore_index=True)\n",
    "                        print(df_all_data.tail(1))\n",
    "        finally:\n",
    "            await ws.close()\n",
    "            save_task.cancel()\n",
    "            print(\"✅ Streaming finished.\")\n",
    "\n",
    "# Run the stream\n",
    "await stream_finnhub(duration_seconds=60)\n"
   ]
  }
 ],
 "metadata": {
  "kernelspec": {
   "display_name": "base",
   "language": "python",
   "name": "python3"
  },
  "language_info": {
   "codemirror_mode": {
    "name": "ipython",
    "version": 3
   },
   "file_extension": ".py",
   "mimetype": "text/x-python",
   "name": "python",
   "nbconvert_exporter": "python",
   "pygments_lexer": "ipython3",
   "version": "3.12.9"
  }
 },
 "nbformat": 4,
 "nbformat_minor": 5
}
