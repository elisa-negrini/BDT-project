{
 "cells": [
  {
   "cell_type": "code",
   "execution_count": 6,
   "id": "61b1d78d",
   "metadata": {
    "ExecuteTime": {
     "end_time": "2025-04-29T13:25:59.725476Z",
     "start_time": "2025-04-29T13:25:45.507486Z"
    }
   },
   "outputs": [
    {
     "name": "stdout",
     "output_type": "stream",
     "text": [
      "                                    open    high       low     close   volume  \\\n",
      "symbol timestamp                                                                \n",
      "AAPL   2024-01-02 09:00:00+00:00  191.52  191.52  190.0000  190.2000  18933.0   \n",
      "       2024-01-02 09:01:00+00:00  190.11  190.13  190.0000  190.0000   8562.0   \n",
      "       2024-01-02 09:02:00+00:00  189.90  189.90  189.8200  189.8200   5355.0   \n",
      "       2024-01-02 09:03:00+00:00  189.87  189.87  189.8000  189.8700   4405.0   \n",
      "       2024-01-02 09:04:00+00:00  189.90  189.95  189.9000  189.9000   2225.0   \n",
      "...                                  ...     ...       ...       ...      ...   \n",
      "XOM    2025-05-13 22:25:00+00:00  109.46  109.46  109.4597  109.4597    200.0   \n",
      "       2025-05-13 22:26:00+00:00  109.46  109.46  109.4600  109.4600    100.0   \n",
      "       2025-05-13 22:49:00+00:00  109.46  109.46  109.4600  109.4600    116.0   \n",
      "       2025-05-13 22:56:00+00:00  109.57  109.57  109.5700  109.5700    110.0   \n",
      "       2025-05-13 23:51:00+00:00  109.59  109.59  109.5900  109.5900    150.0   \n",
      "\n",
      "                                  trade_count        vwap  \n",
      "symbol timestamp                                           \n",
      "AAPL   2024-01-02 09:00:00+00:00        612.0  190.241493  \n",
      "       2024-01-02 09:01:00+00:00        425.0  190.088775  \n",
      "       2024-01-02 09:02:00+00:00        129.0  189.823988  \n",
      "       2024-01-02 09:03:00+00:00         83.0  189.859107  \n",
      "       2024-01-02 09:04:00+00:00         87.0  189.916633  \n",
      "...                                       ...         ...  \n",
      "XOM    2025-05-13 22:25:00+00:00          2.0  109.459850  \n",
      "       2025-05-13 22:26:00+00:00          1.0  109.460000  \n",
      "       2025-05-13 22:49:00+00:00          4.0  109.460000  \n",
      "       2025-05-13 22:56:00+00:00          2.0  109.570000  \n",
      "       2025-05-13 23:51:00+00:00          2.0  109.590000  \n",
      "\n",
      "[5225501 rows x 7 columns]\n"
     ]
    }
   ],
   "source": [
    "import pandas as pd\n",
    "from alpaca.data.historical import StockHistoricalDataClient\n",
    "from alpaca.data.requests import StockBarsRequest\n",
    "from alpaca.data.timeframe import TimeFrame\n",
    "from datetime import datetime\n",
    "\n",
    "# Step 1: Leggi il file CSV dei 500 titoli\n",
    "# s_and_p_500 = pd.read_csv(\"https://raw.githubusercontent.com/datasets/s-and-p-500-companies/master/data/constituents.csv\")\n",
    "# symbols = s_and_p_500['Symbol'].tolist()  # lista dei simboli\n",
    "\n",
    "symbols = [\n",
    "    \"AAPL\", \"MSFT\", \"NVDA\", \"AMZN\", \"META\", \"BRK.B\", \"GOOGL\", \"AVGO\", \"TSLA\", \"IBM\",\n",
    "    \"LLY\", \"JPM\", \"V\", \"XOM\", \"NFLX\", \"COST\", \"UNH\", \"JNJ\", \"PG\", \"MA\",\n",
    "    \"CVX\", \"MRK\", \"PEP\", \"ABBV\", \"ADBE\", \"WMT\", \"BAC\", \"HD\", \"KO\", \"TMO\"\n",
    "]\n",
    "\n",
    "# Step 2: Connetti ad Alpaca\n",
    "client = StockHistoricalDataClient(\n",
    "    \"PKDIQVSRHAGVB1SMJDV1\",\n",
    "    \"T7NAfaVIscGDDYT6VSW0bBaQQwF0SexEGfDNSJSA\",\n",
    ")\n",
    "\n",
    "# Step 3: Crea la richiesta\n",
    "request_params = StockBarsRequest(\n",
    "    symbol_or_symbols=symbols,\n",
    "    timeframe=TimeFrame.Minute,\n",
    "    start=datetime(2024, 1, 1),\n",
    "    end=datetime(2025, 5, 14)\n",
    ")\n",
    "\n",
    "# Step 4: Prendi i dati\n",
    "bars = client.get_stock_bars(request_params)\n",
    "\n",
    "# Step 5: Stampa i primi dati\n",
    "print(bars.df)\n",
    "\n",
    "bars.df.to_parquet('historical_data_4.parquet')\n"
   ]
  },
  {
   "cell_type": "code",
   "execution_count": 3,
   "id": "9a84a619",
   "metadata": {},
   "outputs": [
    {
     "name": "stdout",
     "output_type": "stream",
     "text": [
      "                                 Open        High         Low      Close  \\\n",
      "Date                                                                       \n",
      "2021-04-23 00:00:00-04:00  129.114983  132.006775  129.114983  131.22522   \n",
      "\n",
      "                             Volume  Dividends  Stock Splits  \n",
      "Date                                                          \n",
      "2021-04-23 00:00:00-04:00  78657500        0.0           0.0  \n"
     ]
    }
   ],
   "source": [
    "import yfinance as yf\n",
    "\n",
    "ticker = yf.Ticker(\"AAPL\")\n",
    "df = ticker.history(start=\"2021-04-23\", end=\"2021-04-25\")  # piccolo range di test\n",
    "print(df.head())\n",
    "\n",
    "\n"
   ]
  },
  {
   "cell_type": "code",
   "execution_count": 4,
   "id": "900af8f9",
   "metadata": {},
   "outputs": [
    {
     "name": "stdout",
     "output_type": "stream",
     "text": [
      "YF.download() has changed argument auto_adjust default to True\n"
     ]
    },
    {
     "name": "stderr",
     "output_type": "stream",
     "text": [
      "[*********************100%***********************]  1 of 1 completed"
     ]
    },
    {
     "name": "stdout",
     "output_type": "stream",
     "text": [
      "Price                           Close        High         Low        Open  \\\n",
      "Ticker                           AAPL        AAPL        AAPL        AAPL   \n",
      "Datetime                                                                    \n",
      "2025-05-12 13:30:00+00:00  208.690002  211.266495  208.550003  210.970001   \n",
      "2025-05-12 13:31:00+00:00  207.600006  208.788803  207.449203  208.699997   \n",
      "2025-05-12 13:32:00+00:00  207.860001  207.861694  207.000000  207.630005   \n",
      "2025-05-12 13:33:00+00:00  208.955002  209.070007  207.841904  207.869995   \n",
      "2025-05-12 13:34:00+00:00  208.899994  209.160004  208.770599  208.940002   \n",
      "\n",
      "Price                       Volume  \n",
      "Ticker                        AAPL  \n",
      "Datetime                            \n",
      "2025-05-12 13:30:00+00:00  7480510  \n",
      "2025-05-12 13:31:00+00:00   775897  \n",
      "2025-05-12 13:32:00+00:00   631170  \n",
      "2025-05-12 13:33:00+00:00   575230  \n",
      "2025-05-12 13:34:00+00:00   412819  \n"
     ]
    },
    {
     "name": "stderr",
     "output_type": "stream",
     "text": [
      "\n"
     ]
    }
   ],
   "source": [
    "import yfinance as yf\n",
    "\n",
    "df = yf.download(\"AAPL\", period=\"5d\", interval=\"1m\")\n",
    "print(df.head())\n"
   ]
  },
  {
   "cell_type": "code",
   "execution_count": 5,
   "id": "8c2f82ab",
   "metadata": {},
   "outputs": [
    {
     "data": {
      "text/plain": [
       "(1558, 5)"
      ]
     },
     "execution_count": 5,
     "metadata": {},
     "output_type": "execute_result"
    }
   ],
   "source": [
    "df.shape"
   ]
  }
 ],
 "metadata": {
  "kernelspec": {
   "display_name": "base",
   "language": "python",
   "name": "python3"
  },
  "language_info": {
   "codemirror_mode": {
    "name": "ipython",
    "version": 3
   },
   "file_extension": ".py",
   "mimetype": "text/x-python",
   "name": "python",
   "nbconvert_exporter": "python",
   "pygments_lexer": "ipython3",
   "version": "3.11.5"
  }
 },
 "nbformat": 4,
 "nbformat_minor": 5
}
