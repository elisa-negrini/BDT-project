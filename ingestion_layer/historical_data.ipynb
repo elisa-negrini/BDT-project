{
 "cells": [
  {
   "cell_type": "code",
   "execution_count": null,
   "id": "61b1d78d",
   "metadata": {
    "ExecuteTime": {
     "end_time": "2025-04-29T13:25:59.725476Z",
     "start_time": "2025-04-29T13:25:45.507486Z"
    }
   },
   "outputs": [
    {
     "name": "stderr",
     "output_type": "stream",
     "text": [
      "c:\\Users\\miklo\\anaconda3\\Lib\\site-packages\\pandas\\core\\arrays\\masked.py:60: UserWarning: Pandas requires version '1.3.6' or newer of 'bottleneck' (version '1.3.5' currently installed).\n",
      "  from pandas.core import (\n"
     ]
    },
    {
     "name": "stdout",
     "output_type": "stream",
     "text": [
      "                                      open      high       low    close  \\\n",
      "symbol timestamp                                                          \n",
      "AAPL   2018-01-02 09:00:00+00:00  169.1000  169.2000  169.1000  169.180   \n",
      "       2018-01-02 10:00:00+00:00  169.2500  169.3500  169.0000  169.350   \n",
      "       2018-01-02 11:00:00+00:00  169.3400  169.6700  169.3400  169.670   \n",
      "       2018-01-02 12:00:00+00:00  169.6000  170.2000  169.5100  170.050   \n",
      "       2018-01-02 13:00:00+00:00  170.0100  170.1900  169.5300  170.120   \n",
      "...                                    ...       ...       ...      ...   \n",
      "XOM    2025-05-13 19:00:00+00:00  110.3083  110.3083  109.4300  109.445   \n",
      "       2025-05-13 20:00:00+00:00  109.4600  109.4600  109.0000  109.460   \n",
      "       2025-05-13 21:00:00+00:00  109.3400  109.4600  109.3400  109.460   \n",
      "       2025-05-13 22:00:00+00:00  109.4600  109.5700  109.4597  109.570   \n",
      "       2025-05-13 23:00:00+00:00  109.5900  109.5900  109.5900  109.590   \n",
      "\n",
      "                                     volume  trade_count        vwap  \n",
      "symbol timestamp                                                      \n",
      "AAPL   2018-01-02 09:00:00+00:00     8446.0         40.0  169.116356  \n",
      "       2018-01-02 10:00:00+00:00     5407.0         48.0  169.118009  \n",
      "       2018-01-02 11:00:00+00:00    11880.0         40.0  169.501719  \n",
      "       2018-01-02 12:00:00+00:00    37023.0        199.0  169.913502  \n",
      "       2018-01-02 13:00:00+00:00   113408.0        427.0  170.055199  \n",
      "...                                     ...          ...         ...  \n",
      "XOM    2025-05-13 19:00:00+00:00  2970908.0      39935.0  109.924630  \n",
      "       2025-05-13 20:00:00+00:00  2776134.0        339.0  109.458736  \n",
      "       2025-05-13 21:00:00+00:00     1007.0         11.0  109.437864  \n",
      "       2025-05-13 22:00:00+00:00     1212.0         20.0  109.485522  \n",
      "       2025-05-13 23:00:00+00:00      150.0          2.0  109.590000  \n",
      "\n",
      "[725050 rows x 7 columns]\n"
     ]
    }
   ],
   "source": [
    "import pandas as pd\n",
    "from alpaca.data.historical import StockHistoricalDataClient\n",
    "from alpaca.data.requests import StockBarsRequest\n",
    "from alpaca.data.timeframe import TimeFrame\n",
    "from datetime import datetime\n",
    "\n",
    "# Step 1: Leggi il file CSV dei 500 titoli\n",
    "# s_and_p_500 = pd.read_csv(\"https://raw.githubusercontent.com/datasets/s-and-p-500-companies/master/data/constituents.csv\")\n",
    "# symbols = s_and_p_500['Symbol'].tolist()  # lista dei simboli\n",
    "\n",
    "symbols = [\n",
    "    \"AAPL\", \"MSFT\", \"NVDA\", \"AMZN\", \"META\", \"BRK.B\", \"GOOGL\", \"AVGO\", \"TSLA\", \"GOOG\",\n",
    "    \"LLY\", \"JPM\", \"V\", \"XOM\", \"NFLX\", \"COST\", \"UNH\", \"JNJ\", \"PG\", \"MA\",\n",
    "    \"CVX\", \"MRK\", \"PEP\", \"ABBV\", \"ADBE\", \"WMT\", \"BAC\", \"HD\", \"KO\", \"TMO\"\n",
    "]\n",
    "\n",
    "# Step 2: Connetti ad Alpaca\n",
    "client = StockHistoricalDataClient(\n",
    "    \"AKALIZA66I0M7HGJVNTO\",\n",
    "    \"k5hw9IxWpIP3WCNbzuo2I7NegamWamUX0nFujWdN\"\n",
    ")\n",
    "\n",
    "# Step 3: Crea la richiesta\n",
    "request_params = StockBarsRequest(\n",
    "    symbol_or_symbols=symbols,\n",
    "    timeframe=TimeFrame.Minute,\n",
    "    start=datetime(2021, 1, 1),\n",
    "    end=datetime(2025, 5, 14)\n",
    ")\n",
    "\n",
    "# Step 4: Prendi i dati\n",
    "bars = client.get_stock_bars(request_params)\n",
    "\n",
    "# Step 5: Stampa i primi dati\n",
    "print(bars.df)\n",
    "\n",
    "bars.df.to_parquet('historical_data_3.parquet')\n"
   ]
  }
 ],
 "metadata": {
  "kernelspec": {
   "display_name": "base",
   "language": "python",
   "name": "python3"
  },
  "language_info": {
   "codemirror_mode": {
    "name": "ipython",
    "version": 3
   },
   "file_extension": ".py",
   "mimetype": "text/x-python",
   "name": "python",
   "nbconvert_exporter": "python",
   "pygments_lexer": "ipython3",
   "version": "3.11.5"
  }
 },
 "nbformat": 4,
 "nbformat_minor": 5
}
