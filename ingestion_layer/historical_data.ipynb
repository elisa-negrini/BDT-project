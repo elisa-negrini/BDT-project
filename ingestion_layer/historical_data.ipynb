{
 "cells": [
  {
   "cell_type": "code",
   "execution_count": 7,
   "id": "61b1d78d",
   "metadata": {
    "ExecuteTime": {
     "end_time": "2025-04-29T13:25:59.725476Z",
     "start_time": "2025-04-29T13:25:45.507486Z"
    }
   },
   "outputs": [
    {
     "name": "stdout",
     "output_type": "stream",
     "text": [
      "                                    open    high     low   close    volume  \\\n",
      "symbol timestamp                                                             \n",
      "ADSK   2025-04-23 08:06:00+00:00  266.09  266.09  266.09  266.09     116.0   \n",
      "       2025-04-23 12:00:00+00:00  266.19  266.19  266.19  266.19     197.0   \n",
      "       2025-04-23 12:06:00+00:00  266.18  266.19  266.18  266.19     229.0   \n",
      "       2025-04-23 13:24:00+00:00  265.98  265.98  265.98  265.98     124.0   \n",
      "       2025-04-23 13:25:00+00:00  267.49  267.49  267.49  267.49     353.0   \n",
      "...                                  ...     ...     ...     ...       ...   \n",
      "ZTS    2025-04-24 19:56:00+00:00  152.24  152.42  152.23  152.42    9491.0   \n",
      "       2025-04-24 19:57:00+00:00  152.43  152.47  152.38  152.47   16360.0   \n",
      "       2025-04-24 19:58:00+00:00  152.43  152.57  152.43  152.54   21007.0   \n",
      "       2025-04-24 19:59:00+00:00  152.54  152.58  152.22  152.30   61759.0   \n",
      "       2025-04-24 20:00:00+00:00  152.30  152.30  152.30  152.30  506448.0   \n",
      "\n",
      "                                  trade_count        vwap  \n",
      "symbol timestamp                                           \n",
      "ADSK   2025-04-23 08:06:00+00:00         11.0  266.090000  \n",
      "       2025-04-23 12:00:00+00:00         15.0  266.190000  \n",
      "       2025-04-23 12:06:00+00:00          5.0  266.185000  \n",
      "       2025-04-23 13:24:00+00:00          1.0  265.980000  \n",
      "       2025-04-23 13:25:00+00:00         27.0  267.490000  \n",
      "...                                       ...         ...  \n",
      "ZTS    2025-04-24 19:56:00+00:00        236.0  152.275017  \n",
      "       2025-04-24 19:57:00+00:00        332.0  152.416788  \n",
      "       2025-04-24 19:58:00+00:00        348.0  152.512547  \n",
      "       2025-04-24 19:59:00+00:00       1009.0  152.355202  \n",
      "       2025-04-24 20:00:00+00:00         70.0  152.300000  \n",
      "\n",
      "[401231 rows x 7 columns]\n"
     ]
    }
   ],
   "source": [
    "import pandas as pd\n",
    "from alpaca.data.historical import StockHistoricalDataClient\n",
    "from alpaca.data.requests import StockBarsRequest\n",
    "from alpaca.data.timeframe import TimeFrame\n",
    "from datetime import datetime\n",
    "\n",
    "# Step 1: Leggi il file CSV dei 500 titoli\n",
    "s_and_p_500 = pd.read_csv(\"https://raw.githubusercontent.com/datasets/s-and-p-500-companies/master/data/constituents.csv\")\n",
    "symbols = s_and_p_500['Symbol'].tolist()  # lista dei simboli\n",
    "\n",
    "# Step 2: Connetti ad Alpaca\n",
    "client = StockHistoricalDataClient(\n",
    "    \"AKP52FXPKKRCHO0R1QJ5\",\n",
    "    \"cvdzZzgt7QZHjF5n1vNFL4wUKo6Rq0Hy6gLnCdVt\"\n",
    ")\n",
    "\n",
    "# Step 3: Crea la richiesta\n",
    "request_params = StockBarsRequest(\n",
    "    symbol_or_symbols=symbols,\n",
    "    timeframe=TimeFrame.Minute,\n",
    "    start=datetime(2025, 4, 23),\n",
    "    end=datetime(2025, 4, 25)\n",
    ")\n",
    "\n",
    "# Step 4: Prendi i dati\n",
    "bars = client.get_stock_bars(request_params)\n",
    "\n",
    "# Step 5: Stampa i primi dati\n",
    "print(bars.df)\n",
    "\n",
    "bars.df.to_parquet('historical_data.parquet')\n"
   ]
  }
 ],
 "metadata": {
  "kernelspec": {
   "display_name": "big-data-finance",
   "language": "python",
   "name": "python3"
  },
  "language_info": {
   "codemirror_mode": {
    "name": "ipython",
    "version": 3
   },
   "file_extension": ".py",
   "mimetype": "text/x-python",
   "name": "python",
   "nbconvert_exporter": "python",
   "pygments_lexer": "ipython3",
   "version": "3.12.6"
  }
 },
 "nbformat": 4,
 "nbformat_minor": 5
}
