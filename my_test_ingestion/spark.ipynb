{
 "cells": [
  {
   "cell_type": "code",
   "execution_count": null,
   "id": "1d19f208",
   "metadata": {},
   "outputs": [],
   "source": [
    "from pyspark.sql import SparkSession\n",
    "from pyspark.sql.functions import expr\n",
    "\n",
    "# Create Spark session\n",
    "spark = SparkSession.builder \\\n",
    "    .appName(\"SparkKafkaExample\") \\\n",
    "    .getOrCreate()\n",
    "\n",
    "# Subscribe to Kafka topic\n",
    "kafka_streaming_df = spark \\\n",
    "    .readStream \\\n",
    "    .format(\"kafka\") \\\n",
    "    .option(\"kafka.bootstrap.servers\", \"kafka:9092\") \\\n",
    "    .option(\"subscribe\", \"test_topic\") \\\n",
    "    .load()\n",
    "\n",
    "# Convert value column (which is in binary) to string\n",
    "kafka_streaming_df = kafka_streaming_df.selectExpr(\"CAST(value AS STRING)\")\n",
    "\n",
    "# Output the stream to the console (just to see the data)\n",
    "query = kafka_streaming_df \\\n",
    "    .writeStream \\\n",
    "    .outputMode(\"append\") \\\n",
    "    .format(\"console\") \\\n",
    "    .start()\n",
    "\n",
    "# Keep the streaming job running\n",
    "query.awaitTermination()\n"
   ]
  }
 ],
 "metadata": {
  "language_info": {
   "name": "python"
  }
 },
 "nbformat": 4,
 "nbformat_minor": 5
}
