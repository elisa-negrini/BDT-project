{
 "cells": [
  {
   "cell_type": "code",
   "execution_count": 20,
   "id": "4ee304f8",
   "metadata": {},
   "outputs": [
    {
     "name": "stdout",
     "output_type": "stream",
     "text": [
      "                                     open      high     low   close  \\\n",
      "symbol timestamp                                                      \n",
      "GOOG   2024-01-02 05:00:00+00:00  139.600  140.6147  137.74  139.56   \n",
      "       2024-01-03 05:00:00+00:00  138.600  141.0900  138.43  140.36   \n",
      "       2024-01-04 05:00:00+00:00  139.850  140.6350  138.01  138.04   \n",
      "       2024-01-05 05:00:00+00:00  138.352  138.8100  136.85  137.39   \n",
      "       2024-01-08 05:00:00+00:00  138.000  140.6400  137.88  140.53   \n",
      "\n",
      "                                      volume  trade_count        vwap  \n",
      "symbol timestamp                                                       \n",
      "GOOG   2024-01-02 05:00:00+00:00  20076668.0     229087.0  139.104163  \n",
      "       2024-01-03 05:00:00+00:00  18976882.0     191902.0  140.129764  \n",
      "       2024-01-04 05:00:00+00:00  18255103.0     182309.0  138.977137  \n",
      "       2024-01-05 05:00:00+00:00  15439475.0     174619.0  137.678982  \n",
      "       2024-01-08 05:00:00+00:00  17646935.0     166688.0  139.787679  \n"
     ]
    }
   ],
   "source": [
    "from alpaca.data.historical import StockHistoricalDataClient\n",
    "from alpaca.data.requests import StockBarsRequest\n",
    "from alpaca.data.timeframe import TimeFrame\n",
    "from datetime import datetime\n",
    "\n",
    "client = StockHistoricalDataClient(\"AKP52FXPKKRCHO0R1QJ5\", \"cvdzZzgt7QZHjF5n1vNFL4wUKo6Rq0Hy6gLnCdVt\")\n",
    "\n",
    "request_params = StockBarsRequest(\n",
    "    symbol_or_symbols=\"GOOG\",  # Apple, sicuro che esiste\n",
    "    timeframe=TimeFrame.Day,\n",
    "    start=datetime(2024, 1, 1),\n",
    "    end=datetime(2024, 1, 10)\n",
    ")\n",
    "\n",
    "bars = client.get_stock_bars(request_params)\n",
    "print(bars.df.head())"
   ]
  }
 ],
 "metadata": {
  "kernelspec": {
   "display_name": "base",
   "language": "python",
   "name": "python3"
  },
  "language_info": {
   "codemirror_mode": {
    "name": "ipython",
    "version": 3
   },
   "file_extension": ".py",
   "mimetype": "text/x-python",
   "name": "python",
   "nbconvert_exporter": "python",
   "pygments_lexer": "ipython3",
   "version": "3.12.9"
  }
 },
 "nbformat": 4,
 "nbformat_minor": 5
}
